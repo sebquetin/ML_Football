{
 "cells": [
  {
   "cell_type": "code",
   "execution_count": 1,
   "metadata": {},
   "outputs": [
    {
     "name": "stderr",
     "output_type": "stream",
     "text": [
      "C:\\Users\\Lucas\\Desktop\\PIR Foot\\defprojetmlfootball.py:140: SettingWithCopyWarning: \n",
      "A value is trying to be set on a copy of a slice from a DataFrame.\n",
      "Try using .loc[row_indexer,col_indexer] = value instead\n",
      "\n",
      "See the caveats in the documentation: http://pandas.pydata.org/pandas-docs/stable/indexing.html#indexing-view-versus-copy\n",
      "  df_to_study[\"outcome\"]=df_to_study[\"shot\"].map(lambda x : x[\"outcome\"][\"name\"])\n",
      "C:\\Users\\Lucas\\Desktop\\PIR Foot\\defprojetmlfootball.py:141: SettingWithCopyWarning: \n",
      "A value is trying to be set on a copy of a slice from a DataFrame.\n",
      "Try using .loc[row_indexer,col_indexer] = value instead\n",
      "\n",
      "See the caveats in the documentation: http://pandas.pydata.org/pandas-docs/stable/indexing.html#indexing-view-versus-copy\n",
      "  df_to_study[\"technique\"]=df_to_study[\"shot\"].map(lambda x : x[\"technique\"][\"name\"])\n",
      "C:\\Users\\Lucas\\Desktop\\PIR Foot\\defprojetmlfootball.py:143: SettingWithCopyWarning: \n",
      "A value is trying to be set on a copy of a slice from a DataFrame.\n",
      "Try using .loc[row_indexer,col_indexer] = value instead\n",
      "\n",
      "See the caveats in the documentation: http://pandas.pydata.org/pandas-docs/stable/indexing.html#indexing-view-versus-copy\n",
      "  df_to_study[\"environnement\"]=df_to_study[\"shot\"].map(lambda x : x[\"freeze_frame\"] if 'freeze_frame' in x else False)\n",
      "C:\\Users\\Lucas\\Desktop\\PIR Foot\\defprojetmlfootball.py:144: SettingWithCopyWarning: \n",
      "A value is trying to be set on a copy of a slice from a DataFrame.\n",
      "Try using .loc[row_indexer,col_indexer] = value instead\n",
      "\n",
      "See the caveats in the documentation: http://pandas.pydata.org/pandas-docs/stable/indexing.html#indexing-view-versus-copy\n",
      "  df_to_study[\"stat\"]=df_to_study[\"shot\"].map(lambda x : x[\"statsbomb_xg\"])\n"
     ]
    },
    {
     "name": "stdout",
     "output_type": "stream",
     "text": [
      "        period       location     timestamp  outcome    technique  \\\n",
      "144          1   [98.0, 56.0]  00:02:39.760    Off T       Normal   \n",
      "515          1   [94.0, 26.0]  00:11:31.800    Off T       Normal   \n",
      "535          1  [102.0, 23.0]  00:12:05.840  Wayward       Normal   \n",
      "596          1   [99.0, 44.0]  00:14:23.920    Off T       Normal   \n",
      "855          1  [101.0, 48.0]  00:21:25.160     Goal          Lob   \n",
      "904          1  [107.0, 38.0]  00:23:50.000    Off T          Lob   \n",
      "938          1   [86.0, 36.0]  00:24:54.760    Saved       Normal   \n",
      "1062         1  [100.0, 22.0]  00:29:40.680    Off T       Normal   \n",
      "1086         1   [95.0, 60.0]  00:31:17.573    Off T       Normal   \n",
      "1141         1  [105.0, 30.0]  00:32:52.493    Off T  Half Volley   \n",
      "1159         1  [101.0, 29.0]  00:33:38.120    Off T       Normal   \n",
      "1247         1  [103.0, 45.0]  00:36:35.360  Blocked       Normal   \n",
      "1292         1  [108.0, 40.0]  00:40:16.120    Saved       Normal   \n",
      "1301         1  [104.0, 45.0]  00:40:52.920  Blocked       Volley   \n",
      "1417         1  [108.0, 40.0]  00:50:35.240     Goal       Normal   \n",
      "1789         2  [112.0, 54.0]  00:08:57.400    Off T       Volley   \n",
      "1818         2  [108.0, 40.0]  00:11:16.773    Off T       Normal   \n",
      "1859         2  [100.0, 61.0]  00:12:18.360  Blocked       Normal   \n",
      "1945         2   [90.0, 49.0]  00:14:21.400    Off T       Normal   \n",
      "2033         2   [96.0, 41.0]  00:17:48.280    Off T       Volley   \n",
      "2196         2  [110.0, 49.0]  00:23:34.160    Saved       Normal   \n",
      "2200         2  [115.0, 49.0]  00:24:07.880    Saved       Normal   \n",
      "2235         2   [98.0, 51.0]  00:25:17.280    Off T       Normal   \n",
      "2314         2   [88.0, 43.0]  00:28:57.960    Off T       Normal   \n",
      "2400         2  [102.0, 22.0]  00:31:09.880  Blocked       Normal   \n",
      "2463         2   [95.0, 30.0]  00:35:04.120  Blocked       Normal   \n",
      "2475         2  [116.0, 30.0]  00:35:57.280    Saved       Volley   \n",
      "2761         2  [101.0, 58.0]  00:45:30.240  Blocked       Normal   \n",
      "2917         2  [116.0, 53.0]  00:49:05.160     Goal  Half Volley   \n",
      "3094         1  [101.0, 62.0]  00:03:30.440    Off T  Half Volley   \n",
      "...        ...            ...           ...      ...          ...   \n",
      "175141       1  [107.0, 45.0]  00:11:34.860    Off T       Normal   \n",
      "175275       1  [111.0, 49.0]  00:16:21.140    Saved       Normal   \n",
      "175440       1  [109.0, 51.0]  00:21:12.660  Blocked       Normal   \n",
      "175444       1  [111.0, 49.0]  00:21:14.220  Blocked  Half Volley   \n",
      "175448       1   [98.0, 49.0]  00:21:18.420  Blocked       Normal   \n",
      "175454       1  [109.0, 44.0]  00:22:15.540    Saved       Normal   \n",
      "175499       1  [109.0, 41.0]  00:25:22.793     Goal       Normal   \n",
      "175531       1  [105.0, 42.0]  00:27:09.340    Saved       Normal   \n",
      "175597       1   [87.0, 41.0]  00:30:50.260    Off T       Normal   \n",
      "175829       1  [118.0, 30.0]  00:38:34.460    Saved       Normal   \n",
      "175950       1  [108.0, 26.0]  00:42:31.833    Off T       Normal   \n",
      "176003       1   [94.0, 48.0]  00:44:18.500  Blocked       Normal   \n",
      "176009       1   [99.0, 32.0]  00:44:21.900  Blocked       Normal   \n",
      "176222       2  [100.0, 28.0]  00:04:58.040    Off T       Normal   \n",
      "176260       2   [90.0, 46.0]  00:06:02.895    Off T       Normal   \n",
      "176277       2  [110.0, 47.0]  00:06:47.800  Blocked       Normal   \n",
      "176284       2  [105.0, 68.0]  00:07:39.680    Saved       Normal   \n",
      "176373       2  [103.0, 18.0]  00:10:41.520    Saved       Normal   \n",
      "176423       2   [96.0, 46.0]  00:12:39.013  Blocked       Normal   \n",
      "176428       2  [104.0, 36.0]  00:12:42.400    Saved       Normal   \n",
      "176488       2  [100.0, 39.0]  00:14:50.013  Blocked       Normal   \n",
      "176522       2  [104.0, 38.0]  00:15:58.520  Blocked       Normal   \n",
      "176547       2  [101.0, 58.0]  00:16:25.333    Off T       Normal   \n",
      "176623       2  [111.0, 32.0]  00:20:24.880     Goal       Normal   \n",
      "176672       2   [99.0, 40.0]  00:24:06.880    Saved       Normal   \n",
      "176749       2   [88.0, 52.0]  00:28:02.040  Blocked       Normal   \n",
      "176962       2   [95.0, 49.0]  00:36:40.120  Blocked       Normal   \n",
      "177181       2   [94.0, 40.0]  00:42:43.960    Off T       Normal   \n",
      "177247       2   [96.0, 47.0]  00:46:34.853    Off T  Half Volley   \n",
      "177260       2   [97.0, 54.0]  00:47:06.080     Goal       Normal   \n",
      "\n",
      "                                            environnement      stat    1V1  \\\n",
      "144     [{'location': [98.0, 62.0], 'player': {'id': 5...  0.025731  False   \n",
      "515     [{'location': [93.0, 33.0], 'player': {'id': 5...  0.015248  False   \n",
      "535     [{'location': [104.0, 25.0], 'player': {'id': ...  0.024574  False   \n",
      "596     [{'location': [101.0, 52.0], 'player': {'id': ...  0.049634  False   \n",
      "855     [{'location': [105.0, 47.0], 'player': {'id': ...  0.112873  False   \n",
      "904     [{'location': [111.0, 39.0], 'player': {'id': ...  0.494664   True   \n",
      "938     [{'location': [91.0, 43.0], 'player': {'id': 5...  0.014626  False   \n",
      "1062    [{'location': [94.0, 68.0], 'player': {'id': 5...  0.016943  False   \n",
      "1086    [{'location': [108.0, 64.0], 'player': {'id': ...  0.016042  False   \n",
      "1141    [{'location': [101.0, 21.0], 'player': {'id': ...  0.112089  False   \n",
      "1159    [{'location': [104.0, 30.0], 'player': {'id': ...  0.052879  False   \n",
      "1247    [{'location': [110.0, 46.0], 'player': {'id': ...  0.123352  False   \n",
      "1292                                                False  0.760000  False   \n",
      "1301    [{'location': [95.0, 43.0], 'player': {'id': 5...  0.069197  False   \n",
      "1417                                                False  0.760000  False   \n",
      "1789    [{'location': [116.0, 45.0], 'player': {'id': ...  0.093658  False   \n",
      "1818    [{'location': [118.0, 40.0], 'player': {'id': ...  0.026855  False   \n",
      "1859    [{'location': [102.0, 61.0], 'player': {'id': ...  0.014681  False   \n",
      "1945    [{'location': [118.0, 42.0], 'player': {'id': ...  0.026456  False   \n",
      "2033    [{'location': [89.0, 41.0], 'player': {'id': 5...  0.042463  False   \n",
      "2196    [{'location': [112.0, 49.0], 'player': {'id': ...  0.046468  False   \n",
      "2200    [{'location': [95.0, 43.0], 'player': {'id': 5...  0.065863  False   \n",
      "2235    [{'location': [117.0, 41.0], 'player': {'id': ...  0.048848  False   \n",
      "2314    [{'location': [85.0, 40.0], 'player': {'id': 5...  0.026869  False   \n",
      "2400    [{'location': [105.0, 29.0], 'player': {'id': ...  0.039698  False   \n",
      "2463    [{'location': [89.0, 38.0], 'player': {'id': 5...  0.072776  False   \n",
      "2475    [{'location': [114.0, 31.0], 'player': {'id': ...  0.073027   True   \n",
      "2761    [{'location': [90.0, 28.0], 'player': {'id': 5...  0.020235  False   \n",
      "2917    [{'location': [116.0, 48.0], 'player': {'id': ...  0.057390  False   \n",
      "3094    [{'location': [94.0, 48.0], 'player': {'id': 5...  0.020677  False   \n",
      "...                                                   ...       ...    ...   \n",
      "175141  [{'location': [106.0, 39.0], 'player': {'id': ...  0.017071  False   \n",
      "175275  [{'location': [110.0, 49.0], 'player': {'id': ...  0.016172  False   \n",
      "175440  [{'location': [118.0, 42.0], 'player': {'id': ...  0.071888  False   \n",
      "175444  [{'location': [114.0, 47.0], 'player': {'id': ...  0.157215  False   \n",
      "175448  [{'location': [119.0, 40.0], 'player': {'id': ...  0.036576  False   \n",
      "175454  [{'location': [119.0, 42.0], 'player': {'id': ...  0.031380  False   \n",
      "175499                                              False  0.760000  False   \n",
      "175531  [{'location': [106.0, 9.0], 'player': {'id': 5...  0.073796  False   \n",
      "175597  [{'location': [119.0, 39.0], 'player': {'id': ...  0.014667  False   \n",
      "175829  [{'location': [118.0, 31.0], 'player': {'id': ...  0.070553   True   \n",
      "175950  [{'location': [90.0, 30.0], 'player': {'id': 5...  0.052363  False   \n",
      "176003  [{'location': [103.0, 57.0], 'player': {'id': ...  0.024739  False   \n",
      "176009  [{'location': [118.0, 38.0], 'player': {'id': ...  0.040283  False   \n",
      "176222  [{'location': [94.0, 30.0], 'player': {'id': 5...  0.056008  False   \n",
      "176260  [{'location': [70.0, 56.0], 'player': {'id': 5...  0.042264  False   \n",
      "176277  [{'location': [120.0, 44.0], 'player': {'id': ...  0.115378  False   \n",
      "176284  [{'location': [107.0, 64.0], 'player': {'id': ...  0.022424  False   \n",
      "176373  [{'location': [106.0, 19.0], 'player': {'id': ...  0.019875  False   \n",
      "176423  [{'location': [95.0, 54.0], 'player': {'id': 5...  0.037457  False   \n",
      "176428  [{'location': [105.0, 37.0], 'player': {'id': ...  0.044630  False   \n",
      "176488  [{'location': [104.0, 41.0], 'player': {'id': ...  0.201156  False   \n",
      "176522  [{'location': [120.0, 39.0], 'player': {'id': ...  0.051380  False   \n",
      "176547  [{'location': [104.0, 50.0], 'player': {'id': ...  0.021048  False   \n",
      "176623  [{'location': [105.0, 39.0], 'player': {'id': ...  0.280252  False   \n",
      "176672  [{'location': [120.0, 40.0], 'player': {'id': ...  0.054390  False   \n",
      "176749  [{'location': [93.0, 22.0], 'player': {'id': 5...  0.015775  False   \n",
      "176962  [{'location': [90.0, 42.0], 'player': {'id': 3...  0.030501  False   \n",
      "177181  [{'location': [86.0, 30.0], 'player': {'id': 5...  0.033997  False   \n",
      "177247  [{'location': [100.0, 66.0], 'player': {'id': ...  0.031261  False   \n",
      "177260  [{'location': [100.0, 20.0], 'player': {'id': ...  0.025179  False   \n",
      "\n",
      "                            poste                             joueur  \\\n",
      "144         Right Center Midfield                 Hussain Al Mogahwi   \n",
      "515                 Left Midfield          Salem Mohammed Al Dawsari   \n",
      "535                Center Forward                      Marwan Mohsen   \n",
      "596                 Left Midfield          Salem Mohammed Al Dawsari   \n",
      "855          Right Center Forward                      Mohamed Salah   \n",
      "904          Right Center Forward                      Mohamed Salah   \n",
      "938                Right Midfield                      Hattan Babhir   \n",
      "1062                    Left Back          Yasir Gharsan Al Shahrani   \n",
      "1086                   Right Back                 Mohammed Al Burayk   \n",
      "1141                    Left Wing             Mahmoud Ibrahim Hassan   \n",
      "1159                    Left Wing             Mahmoud Ibrahim Hassan   \n",
      "1247         Left Center Midfield           Salman Mohammed Al Faraj   \n",
      "1292               Center Forward  Fahad Mosaed Al Muwallad Al Harbi   \n",
      "1301    Center Defensive Midfield             Abdullah Ibrahim Otayf   \n",
      "1417         Left Center Midfield           Salman Mohammed Al Faraj   \n",
      "1789               Right Midfield                      Hattan Babhir   \n",
      "1818                    Left Wing             Mahmoud Ibrahim Hassan   \n",
      "1859        Right Center Midfield                 Hussain Al Mogahwi   \n",
      "1945               Right Midfield                      Hattan Babhir   \n",
      "2033        Right Center Midfield                 Hussain Al Mogahwi   \n",
      "2196        Right Center Midfield                 Hussain Al Mogahwi   \n",
      "2200               Center Forward           Mohanad Aseri Abu Radiah   \n",
      "2235        Right Center Midfield       Mohamed Naser Elsayed Elneny   \n",
      "2314         Left Center Midfield           Salman Mohammed Al Faraj   \n",
      "2400    Center Attacking Midfield                   Amr Medhat Warda   \n",
      "2463                   Right Back                 Mohammed Al Burayk   \n",
      "2475    Center Attacking Midfield          Salem Mohammed Al Dawsari   \n",
      "2761    Center Defensive Midfield             Abdullah Ibrahim Otayf   \n",
      "2917    Center Attacking Midfield          Salem Mohammed Al Dawsari   \n",
      "3094                   Right Back              Daniel Carvajal Ramos   \n",
      "...                           ...                                ...   \n",
      "175141             Center Forward          Javier Hernández Balcázar   \n",
      "175275          Right Center Back      Carlos Joel Salcedo Hernández   \n",
      "175440             Center Forward                      Heung-Min Son   \n",
      "175444             Center Forward                      Heung-Min Son   \n",
      "175448             Center Forward                      Heung-Min Son   \n",
      "175454    Left Defensive Midfield                      Sung-Yeung Ki   \n",
      "175499  Center Attacking Midfield        Carlos Alberto Vela Garrido   \n",
      "175531                 Right Wing          Miguel Arturo Layún Prado   \n",
      "175597             Center Forward                      Heung-Min Son   \n",
      "175829             Center Forward                      Heung-Min Son   \n",
      "175950                  Left Wing      Hirving Rodrigo Lozano Bahena   \n",
      "176003             Right Midfield                      Seon-Min Moon   \n",
      "176009        Left Center Forward                      Heung-Min Son   \n",
      "176222                  Left Wing      Hirving Rodrigo Lozano Bahena   \n",
      "176260             Center Forward          Javier Hernández Balcázar   \n",
      "176277                 Right Wing                      Seon-Min Moon   \n",
      "176284  Center Attacking Midfield                       Jae-Sung Lee   \n",
      "176373    Left Defensive Midfield                      Sung-Yeung Ki   \n",
      "176423    Left Defensive Midfield     José Andrés Guardado Hernández   \n",
      "176428    Left Defensive Midfield     José Andrés Guardado Hernández   \n",
      "176488                  Left Wing      Hirving Rodrigo Lozano Bahena   \n",
      "176522  Center Attacking Midfield                       Jae-Sung Lee   \n",
      "176547  Center Attacking Midfield        Carlos Alberto Vela Garrido   \n",
      "176623             Center Forward          Javier Hernández Balcázar   \n",
      "176672        Left Center Forward                     Hee-Chan Hwang   \n",
      "176749       Left Center Midfield                      Sung-Yeung Ki   \n",
      "176962             Right Midfield                       Jae-Sung Lee   \n",
      "177181        Left Center Forward                      Heung-Min Son   \n",
      "177247      Right Center Midfield        Héctor Miguel Herrera López   \n",
      "177260        Left Center Forward                      Heung-Min Son   \n",
      "\n",
      "             situation  cercle5  cercle10     ratio equipe adversaires  \\\n",
      "144       Regular Play        1         6      0.25      2           8   \n",
      "515      From Throw In        2         4       0.7      7          10   \n",
      "535       Regular Play        1         4  0.333333      3           9   \n",
      "596     From Goal Kick        2         7  0.428571      3           7   \n",
      "855       Regular Play        3         3         0      0           4   \n",
      "904       Regular Play        2         2  0.333333      1           3   \n",
      "938       Regular Play        1         5     0.625      5           8   \n",
      "1062    From Free Kick        3         5       0.7      7          10   \n",
      "1086       From Corner        1         1       0.8      8          10   \n",
      "1141      Regular Play        0         6  0.571429      4           7   \n",
      "1159      Regular Play        1         3  0.666667      4           6   \n",
      "1247      Regular Play        0         2  0.714286      5           7   \n",
      "1292             Other        0         0     False  False       False   \n",
      "1301       From Corner        0         8       0.7      7          10   \n",
      "1417             Other        0         0     False  False       False   \n",
      "1789      Regular Play        0         2  0.333333      3           9   \n",
      "1818     From Throw In        2         2  0.555556      5           9   \n",
      "1859      Regular Play        3         5       0.5      4           8   \n",
      "1945      Regular Play        0         4       0.7      7          10   \n",
      "2033       From Keeper        1         6  0.555556      5           9   \n",
      "2196     From Throw In        1         2       0.5      5          10   \n",
      "2200       From Corner        4         9       0.6      6          10   \n",
      "2235    From Free Kick        0         5       0.5      5          10   \n",
      "2314    From Free Kick        1         1  0.636364      7          11   \n",
      "2400      Regular Play        0         1     0.375      3           8   \n",
      "2463    From Free Kick        0         1  0.636364      7          11   \n",
      "2475     From Throw In        2         4  0.333333      2           6   \n",
      "2761      Regular Play        1         6  0.666667      6           9   \n",
      "2917      Regular Play        3         7  0.777778      7           9   \n",
      "3094      Regular Play        0         1     0.625      5           8   \n",
      "...                ...      ...       ...       ...    ...         ...   \n",
      "175141  From Free Kick        3         8  0.818182      9          11   \n",
      "175275     From Corner        3         7  0.636364      7          11   \n",
      "175440    Regular Play        1         2         0      0           4   \n",
      "175444    Regular Play        2         4         0      0           5   \n",
      "175448    Regular Play        0         2  0.428571      3           7   \n",
      "175454     From Corner        4         9     0.625      5           8   \n",
      "175499           Other        0         0     False  False       False   \n",
      "175531    Regular Play        2         4       0.6      6          10   \n",
      "175597  From Free Kick        0         0  0.555556      5           9   \n",
      "175829    Regular Play        2         3      0.25      1           4   \n",
      "175950    Regular Play        2         4       0.5      4           8   \n",
      "176003   From Throw In        3         5  0.666667      6           9   \n",
      "176009   From Throw In        2         4  0.777778      7           9   \n",
      "176222   From Throw In        1         4  0.428571      3           7   \n",
      "176260    Regular Play        0         2  0.428571      3           7   \n",
      "176277    Regular Play        2         3       0.5      4           8   \n",
      "176284     From Corner        1         3      0.75      6           8   \n",
      "176373     From Keeper        2         3  0.555556      5           9   \n",
      "176423    Regular Play        4         6       0.6      6          10   \n",
      "176428    Regular Play        3         9       0.7      7          10   \n",
      "176488    Regular Play        2         3         0      0           5   \n",
      "176522    Regular Play        1         4       0.5      4           8   \n",
      "176547    Regular Play        2         4  0.333333      2           6   \n",
      "176623    Regular Play        2         5  0.333333      2           6   \n",
      "176672     From Corner        1         2     0.875      7           8   \n",
      "176749    Regular Play        1         2  0.666667      6           9   \n",
      "176962   From Throw In        1         4       0.6      6          10   \n",
      "177181    Regular Play        2         5     0.375      3           8   \n",
      "177247  From Free Kick        1         2  0.666667      6           9   \n",
      "177260    Regular Play        1         7  0.555556      5           9   \n",
      "\n",
      "        angle_de_tir   distance  \n",
      "144        13.663229  27.202941  \n",
      "515        13.657643  29.529646  \n",
      "535        13.561052  24.758837  \n",
      "596        20.854458  21.377558  \n",
      "855        20.386986  20.615528  \n",
      "904        33.521303  13.152946  \n",
      "938        13.240520  34.234486  \n",
      "1062       12.734291  26.907248  \n",
      "1086       11.211618  32.015621  \n",
      "1141       21.223657  18.027756  \n",
      "1159       18.065304  21.954498  \n",
      "1247       24.530810  17.720045  \n",
      "1292       36.869898  12.000000  \n",
      "1301       25.781419  16.763055  \n",
      "1417       36.869898  12.000000  \n",
      "1789       14.697319  16.124515  \n",
      "1818       36.869898  12.000000  \n",
      "1859       10.975655  29.000000  \n",
      "1945       13.966371  31.320920  \n",
      "2033       18.893305  24.020824  \n",
      "2196       25.866357  13.453624  \n",
      "2200       23.962489  10.295630  \n",
      "2235       16.636753  24.596748  \n",
      "2314       14.128998  32.140317  \n",
      "2400       12.835609  25.455844  \n",
      "2463       15.753093  26.925824  \n",
      "2475       17.744672  10.770330  \n",
      "2761       12.800564  26.172505  \n",
      "2917       10.721969  13.601471  \n",
      "3094       10.389972  29.068884  \n",
      "...              ...        ...  \n",
      "175141     30.296448  13.928388  \n",
      "175275     26.250242  12.727922  \n",
      "175440     21.274970  15.556349  \n",
      "175444     26.250242  12.727922  \n",
      "175448     17.774961  23.769729  \n",
      "175454     36.027373  11.704700  \n",
      "175499     39.699073  11.045361  \n",
      "175531     29.396053  15.132746  \n",
      "175597     13.810077  33.015148  \n",
      "175829     10.304846  10.198039  \n",
      "175950     16.504361  18.439089  \n",
      "176003     16.028978  27.202941  \n",
      "176009     18.960583  22.472205  \n",
      "176222     16.858399  23.323808  \n",
      "176260     14.620874  30.594117  \n",
      "176277     31.027067  12.206556  \n",
      "176284      6.890548  31.764760  \n",
      "176373     10.184911  27.802878  \n",
      "176423     17.856223  24.738634  \n",
      "176428     26.565051  16.492423  \n",
      "176488     22.567009  20.024984  \n",
      "176522     27.681062  16.124515  \n",
      "176547     12.800564  26.172505  \n",
      "176623     29.167613  12.041595  \n",
      "176672     21.568596  21.000000  \n",
      "176749     12.528808  34.176015  \n",
      "176962     16.164499  26.570661  \n",
      "177181     17.492325  26.000000  \n",
      "177247     17.498548  25.000000  \n",
      "177260     14.548477  26.925824  \n",
      "\n",
      "[1706 rows x 18 columns]\n"
     ]
    },
    {
     "name": "stderr",
     "output_type": "stream",
     "text": [
      "C:\\Users\\Lucas\\Desktop\\PIR Foot\\defprojetmlfootball.py:145: SettingWithCopyWarning: \n",
      "A value is trying to be set on a copy of a slice from a DataFrame.\n",
      "Try using .loc[row_indexer,col_indexer] = value instead\n",
      "\n",
      "See the caveats in the documentation: http://pandas.pydata.org/pandas-docs/stable/indexing.html#indexing-view-versus-copy\n",
      "  df_to_study[\"1V1\"]=df_to_study[\"shot\"].map(lambda x : x[\"one_on_one\"] if 'one_on_one' in x else False)\n"
     ]
    }
   ],
   "source": [
    "from defprojetmlfootball import *\n",
    "import matplotlib.pyplot as plt\n",
    "from pylab import *\n",
    "import os\n",
    "import numpy as np\n",
    "import pandas as pd"
   ]
  },
  {
   "cell_type": "markdown",
   "metadata": {},
   "source": [
    "# Partie 1 : Analyse Exploratoire des données"
   ]
  },
  {
   "cell_type": "code",
   "execution_count": 2,
   "metadata": {},
   "outputs": [
    {
     "name": "stderr",
     "output_type": "stream",
     "text": [
      "C:\\Users\\Lucas\\Desktop\\PIR Foot\\defprojetmlfootball.py:140: SettingWithCopyWarning: \n",
      "A value is trying to be set on a copy of a slice from a DataFrame.\n",
      "Try using .loc[row_indexer,col_indexer] = value instead\n",
      "\n",
      "See the caveats in the documentation: http://pandas.pydata.org/pandas-docs/stable/indexing.html#indexing-view-versus-copy\n",
      "  df_to_study[\"outcome\"]=df_to_study[\"shot\"].map(lambda x : x[\"outcome\"][\"name\"])\n",
      "C:\\Users\\Lucas\\Desktop\\PIR Foot\\defprojetmlfootball.py:141: SettingWithCopyWarning: \n",
      "A value is trying to be set on a copy of a slice from a DataFrame.\n",
      "Try using .loc[row_indexer,col_indexer] = value instead\n",
      "\n",
      "See the caveats in the documentation: http://pandas.pydata.org/pandas-docs/stable/indexing.html#indexing-view-versus-copy\n",
      "  df_to_study[\"technique\"]=df_to_study[\"shot\"].map(lambda x : x[\"technique\"][\"name\"])\n",
      "C:\\Users\\Lucas\\Desktop\\PIR Foot\\defprojetmlfootball.py:143: SettingWithCopyWarning: \n",
      "A value is trying to be set on a copy of a slice from a DataFrame.\n",
      "Try using .loc[row_indexer,col_indexer] = value instead\n",
      "\n",
      "See the caveats in the documentation: http://pandas.pydata.org/pandas-docs/stable/indexing.html#indexing-view-versus-copy\n",
      "  df_to_study[\"environnement\"]=df_to_study[\"shot\"].map(lambda x : x[\"freeze_frame\"] if 'freeze_frame' in x else False)\n",
      "C:\\Users\\Lucas\\Desktop\\PIR Foot\\defprojetmlfootball.py:144: SettingWithCopyWarning: \n",
      "A value is trying to be set on a copy of a slice from a DataFrame.\n",
      "Try using .loc[row_indexer,col_indexer] = value instead\n",
      "\n",
      "See the caveats in the documentation: http://pandas.pydata.org/pandas-docs/stable/indexing.html#indexing-view-versus-copy\n",
      "  df_to_study[\"stat\"]=df_to_study[\"shot\"].map(lambda x : x[\"statsbomb_xg\"])\n",
      "C:\\Users\\Lucas\\Desktop\\PIR Foot\\defprojetmlfootball.py:145: SettingWithCopyWarning: \n",
      "A value is trying to be set on a copy of a slice from a DataFrame.\n",
      "Try using .loc[row_indexer,col_indexer] = value instead\n",
      "\n",
      "See the caveats in the documentation: http://pandas.pydata.org/pandas-docs/stable/indexing.html#indexing-view-versus-copy\n",
      "  df_to_study[\"1V1\"]=df_to_study[\"shot\"].map(lambda x : x[\"one_on_one\"] if 'one_on_one' in x else False)\n"
     ]
    },
    {
     "data": {
      "text/plain": [
       "Index(['period', 'location', 'timestamp', 'outcome', 'technique',\n",
       "       'environnement', 'stat', '1V1', 'poste', 'joueur', 'situation',\n",
       "       'cercle5', 'cercle10', 'ratio', 'equipe', 'adversaires', 'angle_de_tir',\n",
       "       'distance', 'but'],\n",
       "      dtype='object')"
      ]
     },
     "execution_count": 2,
     "metadata": {},
     "output_type": "execute_result"
    }
   ],
   "source": [
    "df=createdataframe(evenements(matchescoupedumonde()))\n",
    "df[\"but\"]=df[\"outcome\"]==\"Goal\"\n",
    "df.columns"
   ]
  },
  {
   "cell_type": "markdown",
   "metadata": {},
   "source": [
    "## Répartition des \"resultats\" des tirs"
   ]
  },
  {
   "cell_type": "code",
   "execution_count": 3,
   "metadata": {},
   "outputs": [
    {
     "data": {
      "text/plain": [
       "Off T      572\n",
       "Blocked    459\n",
       "Saved      341\n",
       "Goal       183\n",
       "Wayward    127\n",
       "Post        24\n",
       "Name: outcome, dtype: int64"
      ]
     },
     "execution_count": 3,
     "metadata": {},
     "output_type": "execute_result"
    }
   ],
   "source": [
    "df[\"outcome\"].value_counts()   "
   ]
  },
  {
   "cell_type": "markdown",
   "metadata": {},
   "source": [
    "Off T : la trajectoire initiale est hors des cages\n",
    "\n",
    "Blocked : arrété par la défense \n",
    "\n",
    "Saved : Arrété par le goal\n",
    "\n",
    "Goal : le tir a donné en un but accordé par l'arbitre\n",
    "\n",
    "Wayward : tir raté, soit pas assez de puissance soit le joueur a manqué le ballon soit complétement non cadré\n",
    "\n",
    "Post : Le tir a touché un poteau ou la barre transversale"
   ]
  },
  {
   "cell_type": "code",
   "execution_count": 4,
   "metadata": {},
   "outputs": [
    {
     "data": {
      "text/plain": [
       "count      1706\n",
       "unique        6\n",
       "top       Off T\n",
       "freq        572\n",
       "Name: outcome, dtype: object"
      ]
     },
     "execution_count": 4,
     "metadata": {},
     "output_type": "execute_result"
    }
   ],
   "source": [
    "df[\"outcome\"].describe()"
   ]
  },
  {
   "cell_type": "markdown",
   "metadata": {},
   "source": [
    "Il y a 1706 tirs pendant la coupe du monde. Ces tirs peuvent prendre 6 modalités (voir ci-dessus). La plus fréquente étant un tir non cadré."
   ]
  },
  {
   "cell_type": "code",
   "execution_count": 5,
   "metadata": {},
   "outputs": [
    {
     "data": {
      "image/png": "[encoded data removed]",
      "text/plain": [
       "<Figure size 432x288 with 1 Axes>"
      ]
     },
     "metadata": {},
     "output_type": "display_data"
    }
   ],
   "source": [
    "labels=\"Off_T\",\"Blocked\",\"Saved\",\"Goal\",\"Wayward\",\"Post\"\n",
    "plt.pie(df[\"outcome\"].value_counts(), labels=labels)\n",
    "plt.show()"
   ]
  },
  {
   "cell_type": "markdown",
   "metadata": {},
   "source": [
    "Diagramme de la répartition des evenements \"tir\", la majeur partie est arrêté ou hors cadre ou encore sauvé par le gardien"
   ]
  },
  {
   "cell_type": "markdown",
   "metadata": {},
   "source": [
    "## Boxplots et histogrammes des variables quantitatives indépendemment du résultat du tir\n",
    "\n",
    "Nous allons observer les différentes variables au moment d'un tir, sans prendre en compte si il donne un but ou pas, afin de tirer des premières conclusions quant au comportement des tireurs. Le but est ensuite de sélectionner les variables les plus représentatives et utiles pour la prédiction d'un but."
   ]
  },
  {
   "cell_type": "code",
   "execution_count": 6,
   "metadata": {},
   "outputs": [
    {
     "data": {
      "text/plain": [
       "<matplotlib.axes._subplots.AxesSubplot at 0x1dc4b8dce80>"
      ]
     },
     "execution_count": 6,
     "metadata": {},
     "output_type": "execute_result"
    },
    {
     "data": {
      "image/png": "[encoded data removed]",
      "text/plain": [
       "<Figure size 432x288 with 1 Axes>"
      ]
     },
     "metadata": {
      "needs_background": "light"
     },
     "output_type": "display_data"
    }
   ],
   "source": [
    "df.boxplot('distance')"
   ]
  },
  {
   "cell_type": "markdown",
   "metadata": {},
   "source": [
    "La distance médianne est proche de 20m (50% des tirs sont frappés a plus de 20m et 50% a moins) et les valeurs sont comprises entre 1m et 45m si on enlève les outliers. Les tirs sont tentés d'assez pres ce qui est logique."
   ]
  },
  {
   "cell_type": "code",
   "execution_count": 7,
   "metadata": {},
   "outputs": [
    {
     "data": {
      "text/plain": [
       "<matplotlib.axes._subplots.AxesSubplot at 0x1dc237e4128>"
      ]
     },
     "execution_count": 7,
     "metadata": {},
     "output_type": "execute_result"
    },
    {
     "data": {
      "image/png": "[encoded data removed]",
      "text/plain": [
       "<Figure size 432x288 with 1 Axes>"
      ]
     },
     "metadata": {
      "needs_background": "light"
     },
     "output_type": "display_data"
    }
   ],
   "source": [
    "df[\"cercle5\"]=pd.to_numeric(df[\"cercle5\"])\n",
    "df.boxplot('cercle5')"
   ]
  },
  {
   "cell_type": "markdown",
   "metadata": {},
   "source": [
    "50% des tirs sont effectués avec plus de 2 joueurs dans un rayon de 5 m autour du porteur du ballon. Les valeurs sont en général assez faibles. Les tireurs ont tendance à tenter leur chance quand ils ont de l'espace."
   ]
  },
  {
   "cell_type": "code",
   "execution_count": 8,
   "metadata": {},
   "outputs": [
    {
     "data": {
      "text/plain": [
       "<matplotlib.axes._subplots.AxesSubplot at 0x1dc2a213d30>"
      ]
     },
     "execution_count": 8,
     "metadata": {},
     "output_type": "execute_result"
    },
    {
     "data": {
      "image/png": "[encoded data removed]",
      "text/plain": [
       "<Figure size 432x288 with 1 Axes>"
      ]
     },
     "metadata": {
      "needs_background": "light"
     },
     "output_type": "display_data"
    }
   ],
   "source": [
    "df[\"ratio\"]=pd.to_numeric(df[\"ratio\"])\n",
    "df[\"adversaires\"]=pd.to_numeric(df[\"adversaires\"])\n",
    "df[\"equipe\"]=pd.to_numeric(df[\"equipe\"])\n",
    "\n",
    "df.boxplot('ratio')"
   ]
  },
  {
   "cell_type": "markdown",
   "metadata": {},
   "source": [
    "Less valeurs prises par la varibale ratio sont en général situées entre 0.4 et 0.6. Le ratio étant calculé avec le rapport de la varibale equipe sur la variable adversaires, on peut dire qu'il y a en general environ deux fois plus de joueurs de léquipe adverse au tireur que de coéquipiers à lui."
   ]
  },
  {
   "cell_type": "code",
   "execution_count": 9,
   "metadata": {},
   "outputs": [
    {
     "data": {
      "text/plain": [
       "<matplotlib.axes._subplots.AxesSubplot at 0x1dc22edfa20>"
      ]
     },
     "execution_count": 9,
     "metadata": {},
     "output_type": "execute_result"
    },
    {
     "data": {
      "image/png": "[encoded data removed]",
      "text/plain": [
       "<Figure size 432x288 with 1 Axes>"
      ]
     },
     "metadata": {
      "needs_background": "light"
     },
     "output_type": "display_data"
    }
   ],
   "source": [
    "df.boxplot('angle_de_tir')"
   ]
  },
  {
   "cell_type": "markdown",
   "metadata": {},
   "source": [
    "La médianne des angles de tir se situent à 20 degrés cependant on observe beaucoup d'outliers, en effet meme si la plupart des tirs sont entre 1 et 60°, il n'est pas rare d'avoir des tirs avec des angles plus ouverts (si le tireur est proche et en face par exemple). Ces tirs correspondent surement aux buts."
   ]
  },
  {
   "cell_type": "code",
   "execution_count": 10,
   "metadata": {},
   "outputs": [
    {
     "data": {
      "text/plain": [
       "<matplotlib.axes._subplots.AxesSubplot at 0x1dc23985f98>"
      ]
     },
     "execution_count": 10,
     "metadata": {},
     "output_type": "execute_result"
    },
    {
     "data": {
      "image/png": "[encoded data removed]",
      "text/plain": [
       "<Figure size 432x288 with 1 Axes>"
      ]
     },
     "metadata": {
      "needs_background": "light"
     },
     "output_type": "display_data"
    }
   ],
   "source": [
    "df[df[\"outcome\"]==\"Goal\"].boxplot('angle_de_tir')"
   ]
  },
  {
   "cell_type": "markdown",
   "metadata": {},
   "source": [
    "En effet, la médiane des angles de tir lorsqu'il y a but est bien plus élevé, les buts sont donc souvent des outliers."
   ]
  },
  {
   "cell_type": "markdown",
   "metadata": {},
   "source": [
    "## Analyse des variables pertinentes en fonction du \"résultat\" du tir. "
   ]
  },
  {
   "cell_type": "code",
   "execution_count": 11,
   "metadata": {},
   "outputs": [
    {
     "data": {
      "text/plain": [
       "<matplotlib.axes._subplots.AxesSubplot at 0x1dc23e87f28>"
      ]
     },
     "execution_count": 11,
     "metadata": {},
     "output_type": "execute_result"
    },
    {
     "data": {
      "image/png": "[encoded data removed]",
      "text/plain": [
       "<Figure size 432x288 with 1 Axes>"
      ]
     },
     "metadata": {
      "needs_background": "light"
     },
     "output_type": "display_data"
    }
   ],
   "source": [
    "df.boxplot(column=\"angle_de_tir\",by=\"outcome\")"
   ]
  },
  {
   "cell_type": "markdown",
   "metadata": {},
   "source": [
    "Ce boxplot nous permet de constater que l'angle médian des buts se situe à 40° et que pour les buts les angles sont en genral plus ouverts."
   ]
  },
  {
   "cell_type": "code",
   "execution_count": 12,
   "metadata": {},
   "outputs": [
    {
     "data": {
      "image/png": "[encoded data removed]",
      "text/plain": [
       "<Figure size 432x288 with 1 Axes>"
      ]
     },
     "metadata": {
      "needs_background": "light"
     },
     "output_type": "display_data"
    }
   ],
   "source": [
    "df.boxplot(column=\"distance\",by=\"outcome\")\n",
    "plt.show()"
   ]
  },
  {
   "cell_type": "markdown",
   "metadata": {},
   "source": [
    "On peut remarquer que la distance influe sur les buts car plus le tireurs est pres plus il marque et plus il est loin plus ses tirs sont arrêtés ou sauvés"
   ]
  },
  {
   "cell_type": "code",
   "execution_count": 13,
   "metadata": {},
   "outputs": [
    {
     "data": {
      "image/png": "[encoded data removed]",
      "text/plain": [
       "<Figure size 432x288 with 1 Axes>"
      ]
     },
     "metadata": {
      "needs_background": "light"
     },
     "output_type": "display_data"
    }
   ],
   "source": [
    "df.boxplot(column=\"equipe\",by='outcome')\n",
    "plt.show()"
   ]
  },
  {
   "cell_type": "markdown",
   "metadata": {},
   "source": [
    "D'après ce boxplot il semblerait que moins le tireur à d'equipiers devant lui plus il marque. Cela semble logique car dans une phase offensive l'equipe attaquante est souvent en en sous nombre et plus le joueur et proche du but moins il a de chance d'être derriere un equipier."
   ]
  },
  {
   "cell_type": "code",
   "execution_count": 14,
   "metadata": {},
   "outputs": [
    {
     "data": {
      "image/png": "[encoded data removed]",
      "text/plain": [
       "<Figure size 432x288 with 1 Axes>"
      ]
     },
     "metadata": {
      "needs_background": "light"
     },
     "output_type": "display_data"
    }
   ],
   "source": [
    "df.boxplot(column=\"adversaires\",by='outcome')\n",
    "plt.show()"
   ]
  },
  {
   "cell_type": "markdown",
   "metadata": {},
   "source": [
    "Ce boxplot montre la grande inluence du nombre de defenseurs sur la possibilité ou non de marquer un but, les tirs ratés correspondent pour la plupart à une situation avec beaucoup de défenseurs devant le tireur.\n",
    " Cependant la moyenne de défenseurs présent devant le tireur devant un but et aussi élevée, en effet les situation de 1 contre 1 ou de 2 contre 1 sont assez rares et les buts interviennent souvent face à une defense en place et au complet."
   ]
  },
  {
   "cell_type": "code",
   "execution_count": 15,
   "metadata": {},
   "outputs": [
    {
     "data": {
      "text/plain": [
       "<matplotlib.axes._subplots.AxesSubplot at 0x1dc26cb3ba8>"
      ]
     },
     "execution_count": 15,
     "metadata": {},
     "output_type": "execute_result"
    },
    {
     "data": {
      "image/png": "[encoded data removed]",
      "text/plain": [
       "<Figure size 432x288 with 1 Axes>"
      ]
     },
     "metadata": {
      "needs_background": "light"
     },
     "output_type": "display_data"
    }
   ],
   "source": [
    "df[df[\"but\"]==1][\"distance\"].hist()"
   ]
  },
  {
   "cell_type": "markdown",
   "metadata": {},
   "source": [
    "On peut voir que, logiquement, il y a moins de buts lorsque la distance est très importante. La distance idéale pour marquer semblre être en 10 et 15 mètres. Il n'y a pas énormément de buts extrêmement près car c'est plus compliqué de se retrouver très près du gardien. "
   ]
  },
  {
   "cell_type": "code",
   "execution_count": 16,
   "metadata": {},
   "outputs": [
    {
     "data": {
      "text/plain": [
       "<matplotlib.axes._subplots.AxesSubplot at 0x1dc2771a9b0>"
      ]
     },
     "execution_count": 16,
     "metadata": {},
     "output_type": "execute_result"
    },
    {
     "data": {
      "image/png": "[encoded data removed]",
      "text/plain": [
       "<Figure size 432x288 with 1 Axes>"
      ]
     },
     "metadata": {
      "needs_background": "light"
     },
     "output_type": "display_data"
    }
   ],
   "source": [
    "df[df[\"but\"]==1][\"angle_de_tir\"].hist()"
   ]
  },
  {
   "cell_type": "markdown",
   "metadata": {},
   "source": [
    "L'angle de tir idéal semble se trouver entre 35 et 50°. Il y a peu de buts au delà, probablement car cela implique d'être extrêmement près du but ce qui est plus compliqué. "
   ]
  },
  {
   "cell_type": "markdown",
   "metadata": {},
   "source": [
    "### Distance en fonction de l'angle de tir \n",
    "On représente les buts en rouge et les autres tirs en bleu"
   ]
  },
  {
   "cell_type": "code",
   "execution_count": 17,
   "metadata": {},
   "outputs": [
    {
     "data": {
      "image/png": "[encoded data removed]",
      "text/plain": [
       "<Figure size 432x288 with 1 Axes>"
      ]
     },
     "metadata": {
      "needs_background": "light"
     },
     "output_type": "display_data"
    }
   ],
   "source": [
    "plt.scatter(df[df[\"but\"]==1][\"distance\"],df[df[\"but\"]==1][\"angle_de_tir\"],c='r')\n",
    "plt.scatter(df[df[\"but\"]==0][\"distance\"],df[df[\"but\"]==0][\"angle_de_tir\"],alpha=0.1)\n",
    "plt.show()"
   ]
  },
  {
   "cell_type": "markdown",
   "metadata": {},
   "source": [
    "On observe que la distance diminue quand l'angle de tir augmente et que les buts sont plus nombreux avec une petite distance et un grand angle de tir"
   ]
  },
  {
   "cell_type": "markdown",
   "metadata": {},
   "source": [
    "### Nombre de joueurs dans les 5 mètres autour du frappeur en fonction de l'angle de tir  "
   ]
  },
  {
   "cell_type": "code",
   "execution_count": 18,
   "metadata": {},
   "outputs": [
    {
     "data": {
      "image/png": "[encoded data removed]",
      "text/plain": [
       "<Figure size 432x288 with 1 Axes>"
      ]
     },
     "metadata": {
      "needs_background": "light"
     },
     "output_type": "display_data"
    }
   ],
   "source": [
    "plt.scatter(df[df[\"but\"]==1][\"cercle5\"],df[df[\"but\"]==1][\"angle_de_tir\"],c='r')\n",
    "plt.scatter(df[df[\"but\"]==0][\"cercle5\"],df[df[\"but\"]==0][\"angle_de_tir\"],alpha=0.2)\n",
    "plt.show()"
   ]
  },
  {
   "cell_type": "markdown",
   "metadata": {},
   "source": [
    "quelque soit le nombre de joueur devant le tireur, plus l'angle de tir augmente plus il y a de chance d'avoir un but. Moins il y a de joueurs, plus il y a de buts également."
   ]
  },
  {
   "cell_type": "markdown",
   "metadata": {},
   "source": [
    "### Désormais, représentons les buts sur le terrain : "
   ]
  },
  {
   "cell_type": "code",
   "execution_count": 20,
   "metadata": {},
   "outputs": [
    {
     "data": {
      "text/plain": [
       "[<matplotlib.lines.Line2D at 0x1dc288b45f8>,\n",
       " <matplotlib.lines.Line2D at 0x1dc28bb99b0>]"
      ]
     },
     "execution_count": 20,
     "metadata": {},
     "output_type": "execute_result"
    },
    {
     "data": {
      "image/png": "[encoded data removed]",
      "text/plain": [
       "<Figure size 432x288 with 1 Axes>"
      ]
     },
     "metadata": {
      "needs_background": "light"
     },
     "output_type": "display_data"
    },
    {
     "data": {
      "image/png": "[encoded data removed]",
      "text/plain": [
       "<Figure size 432x288 with 1 Axes>"
      ]
     },
     "metadata": {
      "needs_background": "light"
     },
     "output_type": "display_data"
    }
   ],
   "source": [
    "import matplotlib.pyplot as plt\n",
    "plt.imshow(np.random.rand(60,120), 'gray')\n",
    "but= [list(map(float,l)) for l in df[df[\"outcome\"]==\"Goal\"][\"location\"]]\n",
    "nonbut= [list(map(float,l)) for l in df[df[\"outcome\"]!=\"Goal\"][\"location\"]]\n",
    "\n",
    "fig, ax = plt.subplots(1, 1)\n",
    "ax.plot([x[0] for x in but],[x[1] for x in but],'.r',[x[0] for x in nonbut],[x[1] for x in nonbut],'_b')"
   ]
  },
  {
   "cell_type": "markdown",
   "metadata": {},
   "source": [
    "Ici, on affiche les \"buts\" et les \"non but\". On voit clairement qu'il y a un plus grand équilibre entre ces deux outcome lorsque l'on frappe de près et face aux cages. Dès que l'on s'exentre ou que l'on tire de plus loin, il y a beaucoup plus de \"non but\" que de buts. "
   ]
  },
  {
   "cell_type": "markdown",
   "metadata": {},
   "source": [
    "## Corrélations entre les différentes variables quantitatives :"
   ]
  },
  {
   "cell_type": "code",
   "execution_count": 21,
   "metadata": {},
   "outputs": [
    {
     "data": {
      "text/html": [
       "<style  type=\"text/css\" >\n",
       "    #T_839939f6_6672_11e9_b443_1cb72c90beadrow0_col0 {\n",
       "            background-color:  #b40426;\n",
       "        }    #T_839939f6_6672_11e9_b443_1cb72c90beadrow0_col1 {\n",
       "            background-color:  #f6bda2;\n",
       "        }    #T_839939f6_6672_11e9_b443_1cb72c90beadrow0_col2 {\n",
       "            background-color:  #6282ea;\n",
       "        }    #T_839939f6_6672_11e9_b443_1cb72c90beadrow0_col3 {\n",
       "            background-color:  #90b2fe;\n",
       "        }    #T_839939f6_6672_11e9_b443_1cb72c90beadrow0_col4 {\n",
       "            background-color:  #81a4fb;\n",
       "        }    #T_839939f6_6672_11e9_b443_1cb72c90beadrow0_col5 {\n",
       "            background-color:  #799cf8;\n",
       "        }    #T_839939f6_6672_11e9_b443_1cb72c90beadrow0_col6 {\n",
       "            background-color:  #7da0f9;\n",
       "        }    #T_839939f6_6672_11e9_b443_1cb72c90beadrow0_col7 {\n",
       "            background-color:  #80a3fa;\n",
       "        }    #T_839939f6_6672_11e9_b443_1cb72c90beadrow0_col8 {\n",
       "            background-color:  #d9dce1;\n",
       "        }    #T_839939f6_6672_11e9_b443_1cb72c90beadrow0_col9 {\n",
       "            background-color:  #b5cdfa;\n",
       "        }    #T_839939f6_6672_11e9_b443_1cb72c90beadrow0_col10 {\n",
       "            background-color:  #c4d5f3;\n",
       "        }    #T_839939f6_6672_11e9_b443_1cb72c90beadrow1_col0 {\n",
       "            background-color:  #ead4c8;\n",
       "        }    #T_839939f6_6672_11e9_b443_1cb72c90beadrow1_col1 {\n",
       "            background-color:  #b40426;\n",
       "        }    #T_839939f6_6672_11e9_b443_1cb72c90beadrow1_col2 {\n",
       "            background-color:  #94b6ff;\n",
       "        }    #T_839939f6_6672_11e9_b443_1cb72c90beadrow1_col3 {\n",
       "            background-color:  #8db0fe;\n",
       "        }    #T_839939f6_6672_11e9_b443_1cb72c90beadrow1_col4 {\n",
       "            background-color:  #7a9df8;\n",
       "        }    #T_839939f6_6672_11e9_b443_1cb72c90beadrow1_col5 {\n",
       "            background-color:  #3b4cc0;\n",
       "        }    #T_839939f6_6672_11e9_b443_1cb72c90beadrow1_col6 {\n",
       "            background-color:  #3b4cc0;\n",
       "        }    #T_839939f6_6672_11e9_b443_1cb72c90beadrow1_col7 {\n",
       "            background-color:  #3b4cc0;\n",
       "        }    #T_839939f6_6672_11e9_b443_1cb72c90beadrow1_col8 {\n",
       "            background-color:  #f5a081;\n",
       "        }    #T_839939f6_6672_11e9_b443_1cb72c90beadrow1_col9 {\n",
       "            background-color:  #6f92f3;\n",
       "        }    #T_839939f6_6672_11e9_b443_1cb72c90beadrow1_col10 {\n",
       "            background-color:  #f7ba9f;\n",
       "        }    #T_839939f6_6672_11e9_b443_1cb72c90beadrow2_col0 {\n",
       "            background-color:  #86a9fc;\n",
       "        }    #T_839939f6_6672_11e9_b443_1cb72c90beadrow2_col1 {\n",
       "            background-color:  #dcdddd;\n",
       "        }    #T_839939f6_6672_11e9_b443_1cb72c90beadrow2_col2 {\n",
       "            background-color:  #b40426;\n",
       "        }    #T_839939f6_6672_11e9_b443_1cb72c90beadrow2_col3 {\n",
       "            background-color:  #a3c2fe;\n",
       "        }    #T_839939f6_6672_11e9_b443_1cb72c90beadrow2_col4 {\n",
       "            background-color:  #96b7ff;\n",
       "        }    #T_839939f6_6672_11e9_b443_1cb72c90beadrow2_col5 {\n",
       "            background-color:  #96b7ff;\n",
       "        }    #T_839939f6_6672_11e9_b443_1cb72c90beadrow2_col6 {\n",
       "            background-color:  #86a9fc;\n",
       "        }    #T_839939f6_6672_11e9_b443_1cb72c90beadrow2_col7 {\n",
       "            background-color:  #a9c6fd;\n",
       "        }    #T_839939f6_6672_11e9_b443_1cb72c90beadrow2_col8 {\n",
       "            background-color:  #cfdaea;\n",
       "        }    #T_839939f6_6672_11e9_b443_1cb72c90beadrow2_col9 {\n",
       "            background-color:  #abc8fd;\n",
       "        }    #T_839939f6_6672_11e9_b443_1cb72c90beadrow2_col10 {\n",
       "            background-color:  #b3cdfb;\n",
       "        }    #T_839939f6_6672_11e9_b443_1cb72c90beadrow3_col0 {\n",
       "            background-color:  #7597f6;\n",
       "        }    #T_839939f6_6672_11e9_b443_1cb72c90beadrow3_col1 {\n",
       "            background-color:  #afcafc;\n",
       "        }    #T_839939f6_6672_11e9_b443_1cb72c90beadrow3_col2 {\n",
       "            background-color:  #6687ed;\n",
       "        }    #T_839939f6_6672_11e9_b443_1cb72c90beadrow3_col3 {\n",
       "            background-color:  #b40426;\n",
       "        }    #T_839939f6_6672_11e9_b443_1cb72c90beadrow3_col4 {\n",
       "            background-color:  #e36b54;\n",
       "        }    #T_839939f6_6672_11e9_b443_1cb72c90beadrow3_col5 {\n",
       "            background-color:  #cfdaea;\n",
       "        }    #T_839939f6_6672_11e9_b443_1cb72c90beadrow3_col6 {\n",
       "            background-color:  #d1dae9;\n",
       "        }    #T_839939f6_6672_11e9_b443_1cb72c90beadrow3_col7 {\n",
       "            background-color:  #eed0c0;\n",
       "        }    #T_839939f6_6672_11e9_b443_1cb72c90beadrow3_col8 {\n",
       "            background-color:  #f7aa8c;\n",
       "        }    #T_839939f6_6672_11e9_b443_1cb72c90beadrow3_col9 {\n",
       "            background-color:  #6b8df0;\n",
       "        }    #T_839939f6_6672_11e9_b443_1cb72c90beadrow3_col10 {\n",
       "            background-color:  #8caffe;\n",
       "        }    #T_839939f6_6672_11e9_b443_1cb72c90beadrow4_col0 {\n",
       "            background-color:  #6788ee;\n",
       "        }    #T_839939f6_6672_11e9_b443_1cb72c90beadrow4_col1 {\n",
       "            background-color:  #a1c0ff;\n",
       "        }    #T_839939f6_6672_11e9_b443_1cb72c90beadrow4_col2 {\n",
       "            background-color:  #5875e1;\n",
       "        }    #T_839939f6_6672_11e9_b443_1cb72c90beadrow4_col3 {\n",
       "            background-color:  #e36b54;\n",
       "        }    #T_839939f6_6672_11e9_b443_1cb72c90beadrow4_col4 {\n",
       "            background-color:  #b40426;\n",
       "        }    #T_839939f6_6672_11e9_b443_1cb72c90beadrow4_col5 {\n",
       "            background-color:  #e5d8d1;\n",
       "        }    #T_839939f6_6672_11e9_b443_1cb72c90beadrow4_col6 {\n",
       "            background-color:  #e8d6cc;\n",
       "        }    #T_839939f6_6672_11e9_b443_1cb72c90beadrow4_col7 {\n",
       "            background-color:  #f7b99e;\n",
       "        }    #T_839939f6_6672_11e9_b443_1cb72c90beadrow4_col8 {\n",
       "            background-color:  #f7ad90;\n",
       "        }    #T_839939f6_6672_11e9_b443_1cb72c90beadrow4_col9 {\n",
       "            background-color:  #6c8ff1;\n",
       "        }    #T_839939f6_6672_11e9_b443_1cb72c90beadrow4_col10 {\n",
       "            background-color:  #82a6fb;\n",
       "        }    #T_839939f6_6672_11e9_b443_1cb72c90beadrow5_col0 {\n",
       "            background-color:  #485fd1;\n",
       "        }    #T_839939f6_6672_11e9_b443_1cb72c90beadrow5_col1 {\n",
       "            background-color:  #506bda;\n",
       "        }    #T_839939f6_6672_11e9_b443_1cb72c90beadrow5_col2 {\n",
       "            background-color:  #4358cb;\n",
       "        }    #T_839939f6_6672_11e9_b443_1cb72c90beadrow5_col3 {\n",
       "            background-color:  #c4d5f3;\n",
       "        }    #T_839939f6_6672_11e9_b443_1cb72c90beadrow5_col4 {\n",
       "            background-color:  #dbdcde;\n",
       "        }    #T_839939f6_6672_11e9_b443_1cb72c90beadrow5_col5 {\n",
       "            background-color:  #b40426;\n",
       "        }    #T_839939f6_6672_11e9_b443_1cb72c90beadrow5_col6 {\n",
       "            background-color:  #c83836;\n",
       "        }    #T_839939f6_6672_11e9_b443_1cb72c90beadrow5_col7 {\n",
       "            background-color:  #ea7b60;\n",
       "        }    #T_839939f6_6672_11e9_b443_1cb72c90beadrow5_col8 {\n",
       "            background-color:  #abc8fd;\n",
       "        }    #T_839939f6_6672_11e9_b443_1cb72c90beadrow5_col9 {\n",
       "            background-color:  #f3c8b2;\n",
       "        }    #T_839939f6_6672_11e9_b443_1cb72c90beadrow5_col10 {\n",
       "            background-color:  #465ecf;\n",
       "        }    #T_839939f6_6672_11e9_b443_1cb72c90beadrow6_col0 {\n",
       "            background-color:  #5572df;\n",
       "        }    #T_839939f6_6672_11e9_b443_1cb72c90beadrow6_col1 {\n",
       "            background-color:  #5977e3;\n",
       "        }    #T_839939f6_6672_11e9_b443_1cb72c90beadrow6_col2 {\n",
       "            background-color:  #3b4cc0;\n",
       "        }    #T_839939f6_6672_11e9_b443_1cb72c90beadrow6_col3 {\n",
       "            background-color:  #cbd8ee;\n",
       "        }    #T_839939f6_6672_11e9_b443_1cb72c90beadrow6_col4 {\n",
       "            background-color:  #e3d9d3;\n",
       "        }    #T_839939f6_6672_11e9_b443_1cb72c90beadrow6_col5 {\n",
       "            background-color:  #c83836;\n",
       "        }    #T_839939f6_6672_11e9_b443_1cb72c90beadrow6_col6 {\n",
       "            background-color:  #b40426;\n",
       "        }    #T_839939f6_6672_11e9_b443_1cb72c90beadrow6_col7 {\n",
       "            background-color:  #d65244;\n",
       "        }    #T_839939f6_6672_11e9_b443_1cb72c90beadrow6_col8 {\n",
       "            background-color:  #afcafc;\n",
       "        }    #T_839939f6_6672_11e9_b443_1cb72c90beadrow6_col9 {\n",
       "            background-color:  #f4c6af;\n",
       "        }    #T_839939f6_6672_11e9_b443_1cb72c90beadrow6_col10 {\n",
       "            background-color:  #4f69d9;\n",
       "        }    #T_839939f6_6672_11e9_b443_1cb72c90beadrow7_col0 {\n",
       "            background-color:  #3b4cc0;\n",
       "        }    #T_839939f6_6672_11e9_b443_1cb72c90beadrow7_col1 {\n",
       "            background-color:  #3b4cc0;\n",
       "        }    #T_839939f6_6672_11e9_b443_1cb72c90beadrow7_col2 {\n",
       "            background-color:  #445acc;\n",
       "        }    #T_839939f6_6672_11e9_b443_1cb72c90beadrow7_col3 {\n",
       "            background-color:  #e0dbd8;\n",
       "        }    #T_839939f6_6672_11e9_b443_1cb72c90beadrow7_col4 {\n",
       "            background-color:  #f2c9b4;\n",
       "        }    #T_839939f6_6672_11e9_b443_1cb72c90beadrow7_col5 {\n",
       "            background-color:  #ed8366;\n",
       "        }    #T_839939f6_6672_11e9_b443_1cb72c90beadrow7_col6 {\n",
       "            background-color:  #d95847;\n",
       "        }    #T_839939f6_6672_11e9_b443_1cb72c90beadrow7_col7 {\n",
       "            background-color:  #b40426;\n",
       "        }    #T_839939f6_6672_11e9_b443_1cb72c90beadrow7_col8 {\n",
       "            background-color:  #b3cdfb;\n",
       "        }    #T_839939f6_6672_11e9_b443_1cb72c90beadrow7_col9 {\n",
       "            background-color:  #efcfbf;\n",
       "        }    #T_839939f6_6672_11e9_b443_1cb72c90beadrow7_col10 {\n",
       "            background-color:  #3b4cc0;\n",
       "        }    #T_839939f6_6672_11e9_b443_1cb72c90beadrow8_col0 {\n",
       "            background-color:  #a9c6fd;\n",
       "        }    #T_839939f6_6672_11e9_b443_1cb72c90beadrow8_col1 {\n",
       "            background-color:  #f6a385;\n",
       "        }    #T_839939f6_6672_11e9_b443_1cb72c90beadrow8_col2 {\n",
       "            background-color:  #779af7;\n",
       "        }    #T_839939f6_6672_11e9_b443_1cb72c90beadrow8_col3 {\n",
       "            background-color:  #f7bca1;\n",
       "        }    #T_839939f6_6672_11e9_b443_1cb72c90beadrow8_col4 {\n",
       "            background-color:  #f5c0a7;\n",
       "        }    #T_839939f6_6672_11e9_b443_1cb72c90beadrow8_col5 {\n",
       "            background-color:  #94b6ff;\n",
       "        }    #T_839939f6_6672_11e9_b443_1cb72c90beadrow8_col6 {\n",
       "            background-color:  #90b2fe;\n",
       "        }    #T_839939f6_6672_11e9_b443_1cb72c90beadrow8_col7 {\n",
       "            background-color:  #adc9fd;\n",
       "        }    #T_839939f6_6672_11e9_b443_1cb72c90beadrow8_col8 {\n",
       "            background-color:  #b40426;\n",
       "        }    #T_839939f6_6672_11e9_b443_1cb72c90beadrow8_col9 {\n",
       "            background-color:  #3b4cc0;\n",
       "        }    #T_839939f6_6672_11e9_b443_1cb72c90beadrow8_col10 {\n",
       "            background-color:  #dadce0;\n",
       "        }    #T_839939f6_6672_11e9_b443_1cb72c90beadrow9_col0 {\n",
       "            background-color:  #7295f4;\n",
       "        }    #T_839939f6_6672_11e9_b443_1cb72c90beadrow9_col1 {\n",
       "            background-color:  #6788ee;\n",
       "        }    #T_839939f6_6672_11e9_b443_1cb72c90beadrow9_col2 {\n",
       "            background-color:  #3f53c6;\n",
       "        }    #T_839939f6_6672_11e9_b443_1cb72c90beadrow9_col3 {\n",
       "            background-color:  #3b4cc0;\n",
       "        }    #T_839939f6_6672_11e9_b443_1cb72c90beadrow9_col4 {\n",
       "            background-color:  #3b4cc0;\n",
       "        }    #T_839939f6_6672_11e9_b443_1cb72c90beadrow9_col5 {\n",
       "            background-color:  #edd2c3;\n",
       "        }    #T_839939f6_6672_11e9_b443_1cb72c90beadrow9_col6 {\n",
       "            background-color:  #edd2c3;\n",
       "        }    #T_839939f6_6672_11e9_b443_1cb72c90beadrow9_col7 {\n",
       "            background-color:  #edd2c3;\n",
       "        }    #T_839939f6_6672_11e9_b443_1cb72c90beadrow9_col8 {\n",
       "            background-color:  #3b4cc0;\n",
       "        }    #T_839939f6_6672_11e9_b443_1cb72c90beadrow9_col9 {\n",
       "            background-color:  #b40426;\n",
       "        }    #T_839939f6_6672_11e9_b443_1cb72c90beadrow9_col10 {\n",
       "            background-color:  #506bda;\n",
       "        }    #T_839939f6_6672_11e9_b443_1cb72c90beadrow10_col0 {\n",
       "            background-color:  #c1d4f4;\n",
       "        }    #T_839939f6_6672_11e9_b443_1cb72c90beadrow10_col1 {\n",
       "            background-color:  #f6a283;\n",
       "        }    #T_839939f6_6672_11e9_b443_1cb72c90beadrow10_col2 {\n",
       "            background-color:  #92b4fe;\n",
       "        }    #T_839939f6_6672_11e9_b443_1cb72c90beadrow10_col3 {\n",
       "            background-color:  #a3c2fe;\n",
       "        }    #T_839939f6_6672_11e9_b443_1cb72c90beadrow10_col4 {\n",
       "            background-color:  #97b8ff;\n",
       "        }    #T_839939f6_6672_11e9_b443_1cb72c90beadrow10_col5 {\n",
       "            background-color:  #7396f5;\n",
       "        }    #T_839939f6_6672_11e9_b443_1cb72c90beadrow10_col6 {\n",
       "            background-color:  #7396f5;\n",
       "        }    #T_839939f6_6672_11e9_b443_1cb72c90beadrow10_col7 {\n",
       "            background-color:  #7da0f9;\n",
       "        }    #T_839939f6_6672_11e9_b443_1cb72c90beadrow10_col8 {\n",
       "            background-color:  #f2c9b4;\n",
       "        }    #T_839939f6_6672_11e9_b443_1cb72c90beadrow10_col9 {\n",
       "            background-color:  #97b8ff;\n",
       "        }    #T_839939f6_6672_11e9_b443_1cb72c90beadrow10_col10 {\n",
       "            background-color:  #b40426;\n",
       "        }</style>  \n",
       "<table id=\"T_839939f6_6672_11e9_b443_1cb72c90bead\" > \n",
       "<thead>    <tr> \n",
       "        <th class=\"blank level0\" ></th> \n",
       "        <th class=\"col_heading level0 col0\" >period</th> \n",
       "        <th class=\"col_heading level0 col1\" >stat</th> \n",
       "        <th class=\"col_heading level0 col2\" >1V1</th> \n",
       "        <th class=\"col_heading level0 col3\" >cercle5</th> \n",
       "        <th class=\"col_heading level0 col4\" >cercle10</th> \n",
       "        <th class=\"col_heading level0 col5\" >ratio</th> \n",
       "        <th class=\"col_heading level0 col6\" >equipe</th> \n",
       "        <th class=\"col_heading level0 col7\" >adversaires</th> \n",
       "        <th class=\"col_heading level0 col8\" >angle_de_tir</th> \n",
       "        <th class=\"col_heading level0 col9\" >distance</th> \n",
       "        <th class=\"col_heading level0 col10\" >but</th> \n",
       "    </tr></thead> \n",
       "<tbody>    <tr> \n",
       "        <th id=\"T_839939f6_6672_11e9_b443_1cb72c90beadlevel0_row0\" class=\"row_heading level0 row0\" >period</th> \n",
       "        <td id=\"T_839939f6_6672_11e9_b443_1cb72c90beadrow0_col0\" class=\"data row0 col0\" >1</td> \n",
       "        <td id=\"T_839939f6_6672_11e9_b443_1cb72c90beadrow0_col1\" class=\"data row0 col1\" >0.40426</td> \n",
       "        <td id=\"T_839939f6_6672_11e9_b443_1cb72c90beadrow0_col2\" class=\"data row0 col2\" >-0.0296242</td> \n",
       "        <td id=\"T_839939f6_6672_11e9_b443_1cb72c90beadrow0_col3\" class=\"data row0 col3\" >-0.101052</td> \n",
       "        <td id=\"T_839939f6_6672_11e9_b443_1cb72c90beadrow0_col4\" class=\"data row0 col4\" >-0.150594</td> \n",
       "        <td id=\"T_839939f6_6672_11e9_b443_1cb72c90beadrow0_col5\" class=\"data row0 col5\" >-0.281026</td> \n",
       "        <td id=\"T_839939f6_6672_11e9_b443_1cb72c90beadrow0_col6\" class=\"data row0 col6\" >-0.224516</td> \n",
       "        <td id=\"T_839939f6_6672_11e9_b443_1cb72c90beadrow0_col7\" class=\"data row0 col7\" >-0.343017</td> \n",
       "        <td id=\"T_839939f6_6672_11e9_b443_1cb72c90beadrow0_col8\" class=\"data row0 col8\" >0.0982367</td> \n",
       "        <td id=\"T_839939f6_6672_11e9_b443_1cb72c90beadrow0_col9\" class=\"data row0 col9\" >-0.111374</td> \n",
       "        <td id=\"T_839939f6_6672_11e9_b443_1cb72c90beadrow0_col10\" class=\"data row0 col10\" >0.20223</td> \n",
       "    </tr>    <tr> \n",
       "        <th id=\"T_839939f6_6672_11e9_b443_1cb72c90beadlevel0_row1\" class=\"row_heading level0 row1\" >stat</th> \n",
       "        <td id=\"T_839939f6_6672_11e9_b443_1cb72c90beadrow1_col0\" class=\"data row1 col0\" >0.40426</td> \n",
       "        <td id=\"T_839939f6_6672_11e9_b443_1cb72c90beadrow1_col1\" class=\"data row1 col1\" >1</td> \n",
       "        <td id=\"T_839939f6_6672_11e9_b443_1cb72c90beadrow1_col2\" class=\"data row1 col2\" >0.141438</td> \n",
       "        <td id=\"T_839939f6_6672_11e9_b443_1cb72c90beadrow1_col3\" class=\"data row1 col3\" >-0.108531</td> \n",
       "        <td id=\"T_839939f6_6672_11e9_b443_1cb72c90beadrow1_col4\" class=\"data row1 col4\" >-0.182709</td> \n",
       "        <td id=\"T_839939f6_6672_11e9_b443_1cb72c90beadrow1_col5\" class=\"data row1 col5\" >-0.587629</td> \n",
       "        <td id=\"T_839939f6_6672_11e9_b443_1cb72c90beadrow1_col6\" class=\"data row1 col6\" >-0.537322</td> \n",
       "        <td id=\"T_839939f6_6672_11e9_b443_1cb72c90beadrow1_col7\" class=\"data row1 col7\" >-0.707806</td> \n",
       "        <td id=\"T_839939f6_6672_11e9_b443_1cb72c90beadrow1_col8\" class=\"data row1 col8\" >0.531396</td> \n",
       "        <td id=\"T_839939f6_6672_11e9_b443_1cb72c90beadrow1_col9\" class=\"data row1 col9\" >-0.462343</td> \n",
       "        <td id=\"T_839939f6_6672_11e9_b443_1cb72c90beadrow1_col10\" class=\"data row1 col10\" >0.535901</td> \n",
       "    </tr>    <tr> \n",
       "        <th id=\"T_839939f6_6672_11e9_b443_1cb72c90beadlevel0_row2\" class=\"row_heading level0 row2\" >1V1</th> \n",
       "        <td id=\"T_839939f6_6672_11e9_b443_1cb72c90beadrow2_col0\" class=\"data row2 col0\" >-0.0296242</td> \n",
       "        <td id=\"T_839939f6_6672_11e9_b443_1cb72c90beadrow2_col1\" class=\"data row2 col1\" >0.141438</td> \n",
       "        <td id=\"T_839939f6_6672_11e9_b443_1cb72c90beadrow2_col2\" class=\"data row2 col2\" >1</td> \n",
       "        <td id=\"T_839939f6_6672_11e9_b443_1cb72c90beadrow2_col3\" class=\"data row2 col3\" >-0.0181152</td> \n",
       "        <td id=\"T_839939f6_6672_11e9_b443_1cb72c90beadrow2_col4\" class=\"data row2 col4\" >-0.0653416</td> \n",
       "        <td id=\"T_839939f6_6672_11e9_b443_1cb72c90beadrow2_col5\" class=\"data row2 col5\" >-0.147496</td> \n",
       "        <td id=\"T_839939f6_6672_11e9_b443_1cb72c90beadrow2_col6\" class=\"data row2 col6\" >-0.180483</td> \n",
       "        <td id=\"T_839939f6_6672_11e9_b443_1cb72c90beadrow2_col7\" class=\"data row2 col7\" >-0.142856</td> \n",
       "        <td id=\"T_839939f6_6672_11e9_b443_1cb72c90beadrow2_col8\" class=\"data row2 col8\" >0.0415417</td> \n",
       "        <td id=\"T_839939f6_6672_11e9_b443_1cb72c90beadrow2_col9\" class=\"data row2 col9\" >-0.161265</td> \n",
       "        <td id=\"T_839939f6_6672_11e9_b443_1cb72c90beadrow2_col10\" class=\"data row2 col10\" >0.130934</td> \n",
       "    </tr>    <tr> \n",
       "        <th id=\"T_839939f6_6672_11e9_b443_1cb72c90beadlevel0_row3\" class=\"row_heading level0 row3\" >cercle5</th> \n",
       "        <td id=\"T_839939f6_6672_11e9_b443_1cb72c90beadrow3_col0\" class=\"data row3 col0\" >-0.101052</td> \n",
       "        <td id=\"T_839939f6_6672_11e9_b443_1cb72c90beadrow3_col1\" class=\"data row3 col1\" >-0.108531</td> \n",
       "        <td id=\"T_839939f6_6672_11e9_b443_1cb72c90beadrow3_col2\" class=\"data row3 col2\" >-0.0181152</td> \n",
       "        <td id=\"T_839939f6_6672_11e9_b443_1cb72c90beadrow3_col3\" class=\"data row3 col3\" >1</td> \n",
       "        <td id=\"T_839939f6_6672_11e9_b443_1cb72c90beadrow3_col4\" class=\"data row3 col4\" >0.782385</td> \n",
       "        <td id=\"T_839939f6_6672_11e9_b443_1cb72c90beadrow3_col5\" class=\"data row3 col5\" >0.127831</td> \n",
       "        <td id=\"T_839939f6_6672_11e9_b443_1cb72c90beadrow3_col6\" class=\"data row3 col6\" >0.160866</td> \n",
       "        <td id=\"T_839939f6_6672_11e9_b443_1cb72c90beadrow3_col7\" class=\"data row3 col7\" >0.27893</td> \n",
       "        <td id=\"T_839939f6_6672_11e9_b443_1cb72c90beadrow3_col8\" class=\"data row3 col8\" >0.484314</td> \n",
       "        <td id=\"T_839939f6_6672_11e9_b443_1cb72c90beadrow3_col9\" class=\"data row3 col9\" >-0.48444</td> \n",
       "        <td id=\"T_839939f6_6672_11e9_b443_1cb72c90beadrow3_col10\" class=\"data row3 col10\" >-0.0201861</td> \n",
       "    </tr>    <tr> \n",
       "        <th id=\"T_839939f6_6672_11e9_b443_1cb72c90beadlevel0_row4\" class=\"row_heading level0 row4\" >cercle10</th> \n",
       "        <td id=\"T_839939f6_6672_11e9_b443_1cb72c90beadrow4_col0\" class=\"data row4 col0\" >-0.150594</td> \n",
       "        <td id=\"T_839939f6_6672_11e9_b443_1cb72c90beadrow4_col1\" class=\"data row4 col1\" >-0.182709</td> \n",
       "        <td id=\"T_839939f6_6672_11e9_b443_1cb72c90beadrow4_col2\" class=\"data row4 col2\" >-0.0653416</td> \n",
       "        <td id=\"T_839939f6_6672_11e9_b443_1cb72c90beadrow4_col3\" class=\"data row4 col3\" >0.782385</td> \n",
       "        <td id=\"T_839939f6_6672_11e9_b443_1cb72c90beadrow4_col4\" class=\"data row4 col4\" >1</td> \n",
       "        <td id=\"T_839939f6_6672_11e9_b443_1cb72c90beadrow4_col5\" class=\"data row4 col5\" >0.25588</td> \n",
       "        <td id=\"T_839939f6_6672_11e9_b443_1cb72c90beadrow4_col6\" class=\"data row4 col6\" >0.300787</td> \n",
       "        <td id=\"T_839939f6_6672_11e9_b443_1cb72c90beadrow4_col7\" class=\"data row4 col7\" >0.421307</td> \n",
       "        <td id=\"T_839939f6_6672_11e9_b443_1cb72c90beadrow4_col8\" class=\"data row4 col8\" >0.468072</td> \n",
       "        <td id=\"T_839939f6_6672_11e9_b443_1cb72c90beadrow4_col9\" class=\"data row4 col9\" >-0.471555</td> \n",
       "        <td id=\"T_839939f6_6672_11e9_b443_1cb72c90beadrow4_col10\" class=\"data row4 col10\" >-0.0596069</td> \n",
       "    </tr>    <tr> \n",
       "        <th id=\"T_839939f6_6672_11e9_b443_1cb72c90beadlevel0_row5\" class=\"row_heading level0 row5\" >ratio</th> \n",
       "        <td id=\"T_839939f6_6672_11e9_b443_1cb72c90beadrow5_col0\" class=\"data row5 col0\" >-0.281026</td> \n",
       "        <td id=\"T_839939f6_6672_11e9_b443_1cb72c90beadrow5_col1\" class=\"data row5 col1\" >-0.587629</td> \n",
       "        <td id=\"T_839939f6_6672_11e9_b443_1cb72c90beadrow5_col2\" class=\"data row5 col2\" >-0.147496</td> \n",
       "        <td id=\"T_839939f6_6672_11e9_b443_1cb72c90beadrow5_col3\" class=\"data row5 col3\" >0.127831</td> \n",
       "        <td id=\"T_839939f6_6672_11e9_b443_1cb72c90beadrow5_col4\" class=\"data row5 col4\" >0.25588</td> \n",
       "        <td id=\"T_839939f6_6672_11e9_b443_1cb72c90beadrow5_col5\" class=\"data row5 col5\" >1</td> \n",
       "        <td id=\"T_839939f6_6672_11e9_b443_1cb72c90beadrow5_col6\" class=\"data row5 col6\" >0.910652</td> \n",
       "        <td id=\"T_839939f6_6672_11e9_b443_1cb72c90beadrow5_col7\" class=\"data row5 col7\" >0.686538</td> \n",
       "        <td id=\"T_839939f6_6672_11e9_b443_1cb72c90beadrow5_col8\" class=\"data row5 col8\" >-0.159461</td> \n",
       "        <td id=\"T_839939f6_6672_11e9_b443_1cb72c90beadrow5_col9\" class=\"data row5 col9\" >0.316467</td> \n",
       "        <td id=\"T_839939f6_6672_11e9_b443_1cb72c90beadrow5_col10\" class=\"data row5 col10\" >-0.30343</td> \n",
       "    </tr>    <tr> \n",
       "        <th id=\"T_839939f6_6672_11e9_b443_1cb72c90beadlevel0_row6\" class=\"row_heading level0 row6\" >equipe</th> \n",
       "        <td id=\"T_839939f6_6672_11e9_b443_1cb72c90beadrow6_col0\" class=\"data row6 col0\" >-0.224516</td> \n",
       "        <td id=\"T_839939f6_6672_11e9_b443_1cb72c90beadrow6_col1\" class=\"data row6 col1\" >-0.537322</td> \n",
       "        <td id=\"T_839939f6_6672_11e9_b443_1cb72c90beadrow6_col2\" class=\"data row6 col2\" >-0.180483</td> \n",
       "        <td id=\"T_839939f6_6672_11e9_b443_1cb72c90beadrow6_col3\" class=\"data row6 col3\" >0.160866</td> \n",
       "        <td id=\"T_839939f6_6672_11e9_b443_1cb72c90beadrow6_col4\" class=\"data row6 col4\" >0.300787</td> \n",
       "        <td id=\"T_839939f6_6672_11e9_b443_1cb72c90beadrow6_col5\" class=\"data row6 col5\" >0.910652</td> \n",
       "        <td id=\"T_839939f6_6672_11e9_b443_1cb72c90beadrow6_col6\" class=\"data row6 col6\" >1</td> \n",
       "        <td id=\"T_839939f6_6672_11e9_b443_1cb72c90beadrow6_col7\" class=\"data row6 col7\" >0.827236</td> \n",
       "        <td id=\"T_839939f6_6672_11e9_b443_1cb72c90beadrow6_col8\" class=\"data row6 col8\" >-0.13743</td> \n",
       "        <td id=\"T_839939f6_6672_11e9_b443_1cb72c90beadrow6_col9\" class=\"data row6 col9\" >0.333723</td> \n",
       "        <td id=\"T_839939f6_6672_11e9_b443_1cb72c90beadrow6_col10\" class=\"data row6 col10\" >-0.267035</td> \n",
       "    </tr>    <tr> \n",
       "        <th id=\"T_839939f6_6672_11e9_b443_1cb72c90beadlevel0_row7\" class=\"row_heading level0 row7\" >adversaires</th> \n",
       "        <td id=\"T_839939f6_6672_11e9_b443_1cb72c90beadrow7_col0\" class=\"data row7 col0\" >-0.343017</td> \n",
       "        <td id=\"T_839939f6_6672_11e9_b443_1cb72c90beadrow7_col1\" class=\"data row7 col1\" >-0.707806</td> \n",
       "        <td id=\"T_839939f6_6672_11e9_b443_1cb72c90beadrow7_col2\" class=\"data row7 col2\" >-0.142856</td> \n",
       "        <td id=\"T_839939f6_6672_11e9_b443_1cb72c90beadrow7_col3\" class=\"data row7 col3\" >0.27893</td> \n",
       "        <td id=\"T_839939f6_6672_11e9_b443_1cb72c90beadrow7_col4\" class=\"data row7 col4\" >0.421307</td> \n",
       "        <td id=\"T_839939f6_6672_11e9_b443_1cb72c90beadrow7_col5\" class=\"data row7 col5\" >0.686538</td> \n",
       "        <td id=\"T_839939f6_6672_11e9_b443_1cb72c90beadrow7_col6\" class=\"data row7 col6\" >0.827236</td> \n",
       "        <td id=\"T_839939f6_6672_11e9_b443_1cb72c90beadrow7_col7\" class=\"data row7 col7\" >1</td> \n",
       "        <td id=\"T_839939f6_6672_11e9_b443_1cb72c90beadrow7_col8\" class=\"data row7 col8\" >-0.12155</td> \n",
       "        <td id=\"T_839939f6_6672_11e9_b443_1cb72c90beadrow7_col9\" class=\"data row7 col9\" >0.26205</td> \n",
       "        <td id=\"T_839939f6_6672_11e9_b443_1cb72c90beadrow7_col10\" class=\"data row7 col10\" >-0.357936</td> \n",
       "    </tr>    <tr> \n",
       "        <th id=\"T_839939f6_6672_11e9_b443_1cb72c90beadlevel0_row8\" class=\"row_heading level0 row8\" >angle_de_tir</th> \n",
       "        <td id=\"T_839939f6_6672_11e9_b443_1cb72c90beadrow8_col0\" class=\"data row8 col0\" >0.0982367</td> \n",
       "        <td id=\"T_839939f6_6672_11e9_b443_1cb72c90beadrow8_col1\" class=\"data row8 col1\" >0.531396</td> \n",
       "        <td id=\"T_839939f6_6672_11e9_b443_1cb72c90beadrow8_col2\" class=\"data row8 col2\" >0.0415417</td> \n",
       "        <td id=\"T_839939f6_6672_11e9_b443_1cb72c90beadrow8_col3\" class=\"data row8 col3\" >0.484314</td> \n",
       "        <td id=\"T_839939f6_6672_11e9_b443_1cb72c90beadrow8_col4\" class=\"data row8 col4\" >0.468072</td> \n",
       "        <td id=\"T_839939f6_6672_11e9_b443_1cb72c90beadrow8_col5\" class=\"data row8 col5\" >-0.159461</td> \n",
       "        <td id=\"T_839939f6_6672_11e9_b443_1cb72c90beadrow8_col6\" class=\"data row8 col6\" >-0.13743</td> \n",
       "        <td id=\"T_839939f6_6672_11e9_b443_1cb72c90beadrow8_col7\" class=\"data row8 col7\" >-0.12155</td> \n",
       "        <td id=\"T_839939f6_6672_11e9_b443_1cb72c90beadrow8_col8\" class=\"data row8 col8\" >1</td> \n",
       "        <td id=\"T_839939f6_6672_11e9_b443_1cb72c90beadrow8_col9\" class=\"data row8 col9\" >-0.751723</td> \n",
       "        <td id=\"T_839939f6_6672_11e9_b443_1cb72c90beadrow8_col10\" class=\"data row8 col10\" >0.309302</td> \n",
       "    </tr>    <tr> \n",
       "        <th id=\"T_839939f6_6672_11e9_b443_1cb72c90beadlevel0_row9\" class=\"row_heading level0 row9\" >distance</th> \n",
       "        <td id=\"T_839939f6_6672_11e9_b443_1cb72c90beadrow9_col0\" class=\"data row9 col0\" >-0.111374</td> \n",
       "        <td id=\"T_839939f6_6672_11e9_b443_1cb72c90beadrow9_col1\" class=\"data row9 col1\" >-0.462343</td> \n",
       "        <td id=\"T_839939f6_6672_11e9_b443_1cb72c90beadrow9_col2\" class=\"data row9 col2\" >-0.161265</td> \n",
       "        <td id=\"T_839939f6_6672_11e9_b443_1cb72c90beadrow9_col3\" class=\"data row9 col3\" >-0.48444</td> \n",
       "        <td id=\"T_839939f6_6672_11e9_b443_1cb72c90beadrow9_col4\" class=\"data row9 col4\" >-0.471555</td> \n",
       "        <td id=\"T_839939f6_6672_11e9_b443_1cb72c90beadrow9_col5\" class=\"data row9 col5\" >0.316467</td> \n",
       "        <td id=\"T_839939f6_6672_11e9_b443_1cb72c90beadrow9_col6\" class=\"data row9 col6\" >0.333723</td> \n",
       "        <td id=\"T_839939f6_6672_11e9_b443_1cb72c90beadrow9_col7\" class=\"data row9 col7\" >0.26205</td> \n",
       "        <td id=\"T_839939f6_6672_11e9_b443_1cb72c90beadrow9_col8\" class=\"data row9 col8\" >-0.751723</td> \n",
       "        <td id=\"T_839939f6_6672_11e9_b443_1cb72c90beadrow9_col9\" class=\"data row9 col9\" >1</td> \n",
       "        <td id=\"T_839939f6_6672_11e9_b443_1cb72c90beadrow9_col10\" class=\"data row9 col10\" >-0.259057</td> \n",
       "    </tr>    <tr> \n",
       "        <th id=\"T_839939f6_6672_11e9_b443_1cb72c90beadlevel0_row10\" class=\"row_heading level0 row10\" >but</th> \n",
       "        <td id=\"T_839939f6_6672_11e9_b443_1cb72c90beadrow10_col0\" class=\"data row10 col0\" >0.20223</td> \n",
       "        <td id=\"T_839939f6_6672_11e9_b443_1cb72c90beadrow10_col1\" class=\"data row10 col1\" >0.535901</td> \n",
       "        <td id=\"T_839939f6_6672_11e9_b443_1cb72c90beadrow10_col2\" class=\"data row10 col2\" >0.130934</td> \n",
       "        <td id=\"T_839939f6_6672_11e9_b443_1cb72c90beadrow10_col3\" class=\"data row10 col3\" >-0.0201861</td> \n",
       "        <td id=\"T_839939f6_6672_11e9_b443_1cb72c90beadrow10_col4\" class=\"data row10 col4\" >-0.0596069</td> \n",
       "        <td id=\"T_839939f6_6672_11e9_b443_1cb72c90beadrow10_col5\" class=\"data row10 col5\" >-0.30343</td> \n",
       "        <td id=\"T_839939f6_6672_11e9_b443_1cb72c90beadrow10_col6\" class=\"data row10 col6\" >-0.267035</td> \n",
       "        <td id=\"T_839939f6_6672_11e9_b443_1cb72c90beadrow10_col7\" class=\"data row10 col7\" >-0.357936</td> \n",
       "        <td id=\"T_839939f6_6672_11e9_b443_1cb72c90beadrow10_col8\" class=\"data row10 col8\" >0.309302</td> \n",
       "        <td id=\"T_839939f6_6672_11e9_b443_1cb72c90beadrow10_col9\" class=\"data row10 col9\" >-0.259057</td> \n",
       "        <td id=\"T_839939f6_6672_11e9_b443_1cb72c90beadrow10_col10\" class=\"data row10 col10\" >1</td> \n",
       "    </tr></tbody> \n",
       "</table> "
      ],
      "text/plain": [
       "<pandas.io.formats.style.Styler at 0x1dc29631eb8>"
      ]
     },
     "execution_count": 21,
     "metadata": {},
     "output_type": "execute_result"
    }
   ],
   "source": [
    "df['cercle5']=pd.to_numeric(df['cercle5'])\n",
    "df['cercle10']=pd.to_numeric(df['cercle10'])\n",
    "df['ratio']=pd.to_numeric(df['ratio'])\n",
    "df['adversaires']=pd.to_numeric(df['adversaires'])\n",
    "df['equipe']=pd.to_numeric(df['equipe'])\n",
    "corr=df.corr()\n",
    "corr.style.background_gradient(cmap='coolwarm')\n",
    "\n"
   ]
  },
  {
   "cell_type": "markdown",
   "metadata": {},
   "source": [
    "La plupart des corrélations paraissent logiques et intuitives. Tout d'abord, \"stat\" et \"but\" sont très corrélés positivement, ce qui est rassurant car \"stat\" calcule la probabilité qu'il y ai but. \"Angle_de_tir\" est positivement corrélé avec \"stat\" ce qui est logique également, tout comme \"period\" et \"stat\" : les équipes fatiguent donc il y a plus de buts en 2ème mi-temps. \n",
    "\n",
    "A l'inverse, \"distance\" est très négativement corrélée à \"stat\" et à \"but\" (logique aussi, plus un joueur est loin moins il marque). \"Adversaires\" et \"equipe\" sont aussi très négativement corrélées avec \"stat\", tout comme, dans une moindre mesure, cercle5 et cercle10 : en effet, plus il y a de joueurs devant le frappeur, moins il a de chance de marquer. \n",
    "\n",
    "Notre seul surprise se trouve dans le fait que \"1vs1\" et \"stat\" ne soit que peu positivement corrélés\n",
    "\n"
   ]
  },
  {
   "cell_type": "markdown",
   "metadata": {},
   "source": [
    "# Partie 2 : Analyse en Composantes Principales (ACP)"
   ]
  },
  {
   "cell_type": "code",
   "execution_count": null,
   "metadata": {},
   "outputs": [],
   "source": [
    "from sklearn.decomposition import PCA"
   ]
  },
  {
   "cell_type": "markdown",
   "metadata": {},
   "source": [
    "On importe la méthode PCA de scikit learn"
   ]
  },
  {
   "cell_type": "code",
   "execution_count": null,
   "metadata": {},
   "outputs": [],
   "source": [
    "pca = PCA(n_components=4)\n",
    "pca"
   ]
  },
  {
   "cell_type": "markdown",
   "metadata": {},
   "source": [
    "On fixe le nombre de composantes principales. "
   ]
  },
  {
   "cell_type": "code",
   "execution_count": null,
   "metadata": {},
   "outputs": [],
   "source": [
    "dfapprentissage=df[['cercle5','equipe','adversaires','angle_de_tir','distance','but']][:len(df)-len(df.tail())]\n",
    "shape(dfapprentissage)\n",
    "dfapprentissage[dfapprentissage.columns[:-1]]"
   ]
  },
  {
   "cell_type": "markdown",
   "metadata": {},
   "source": [
    "La on ne prend pour l'acp que les variables quantitatives. La variable but est la variable a exprimé en fonction des composantes principales qui seront determinées."
   ]
  },
  {
   "cell_type": "code",
   "execution_count": null,
   "metadata": {},
   "outputs": [],
   "source": [
    "dfapprentissage[dfapprentissage.columns[:-1]].boxplot()\n",
    "plt.show()"
   ]
  },
  {
   "cell_type": "markdown",
   "metadata": {},
   "source": [
    "On s'aperçoit en regardant la répartition des variables quantitatives que l'on va utiliser pour l'acp que les dispersion sont très différentes. Il est donc utile de centrer et réduire nos données."
   ]
  },
  {
   "cell_type": "code",
   "execution_count": null,
   "metadata": {},
   "outputs": [],
   "source": [
    "from sklearn.preprocessing import StandardScaler\n",
    "scaler = StandardScaler()\n",
    "apprentissage = scaler.fit_transform(dfapprentissage[dfapprentissage.columns[:-1]])"
   ]
  },
  {
   "cell_type": "markdown",
   "metadata": {},
   "source": [
    "standradscaler sert à réduire et centrer les données, pour éviter que une variable avec une trop grosse variance prenne plus d'importance que les autres dans la création des composantes principales."
   ]
  },
  {
   "cell_type": "code",
   "execution_count": null,
   "metadata": {},
   "outputs": [],
   "source": [
    "plt.boxplot(apprentissage)\n",
    "plt.show()"
   ]
  },
  {
   "cell_type": "markdown",
   "metadata": {},
   "source": [
    "On voit que les variables centrées réduites sont dispersées de manière plus homogènes que les variables d'origine avec la variable angle_de_tir qui avait une variance très élevée."
   ]
  },
  {
   "cell_type": "code",
   "execution_count": null,
   "metadata": {},
   "outputs": [],
   "source": [
    "C = pca.fit_transform(apprentissage)"
   ]
  },
  {
   "cell_type": "markdown",
   "metadata": {},
   "source": [
    "On peut faire le fit et le transform séparément. Le fit permet d'apprendre, et le transform change les individus de base. Leurs coordonnées sont maintenant exprimées dans la base des vecteurs propres de l'acp. "
   ]
  },
  {
   "cell_type": "code",
   "execution_count": null,
   "metadata": {},
   "outputs": [],
   "source": [
    "plt.bar(np.arange(len(pca.explained_variance_ratio_)), pca.explained_variance_ratio_)\n",
    "plt.title(\"Variance expliquée\");"
   ]
  },
  {
   "cell_type": "markdown",
   "metadata": {},
   "source": [
    "Ici, on observe l'inertie de chaque composante principale sur la représentation des variables d'origine. Les deux premières composantes principales sont importantes dans notre représentation."
   ]
  },
  {
   "cell_type": "code",
   "execution_count": null,
   "metadata": {},
   "outputs": [],
   "source": [
    "coord1=pca.components_[0]*np.sqrt(pca.explained_variance_[0])\n",
    "coord2=pca.components_[1]*np.sqrt(pca.explained_variance_[1])\n",
    "fig = plt.figure(figsize=(5,5))\n",
    "ax = fig.add_subplot(1, 1, 1)\n",
    "for i, j, nom in zip(coord1,coord2, dfapprentissage.columns):\n",
    "    plt.text(i, j, nom)\n",
    "    plt.arrow(0,0,i,j,color='black')\n",
    "plt.axis((-1.2,1.2,-1.2,1.2))\n",
    "# cercle\n",
    "c=plt.Circle((0,0), radius=1, color='gray', fill=False)\n",
    "ax.add_patch(c)\n",
    "\n",
    " \n",
    "plt.show()"
   ]
  },
  {
   "cell_type": "markdown",
   "metadata": {},
   "source": [
    "Ici on affiche les variables d'origine sur les deux axes principaux. On observe que la variable angle_de_tir et la variable distance sont négativement corrélées. En effet, plus un joueur est à une distance faible du but, plus son angle de tir est élevé. On voit aussi que les variables adversiare et équipe ont les mêmes composantes sur les axes principaux, elles sont très corrélées. C'est logique car plus il y a de joueur dans notre côté du terrain, plus on a besoin de défenseurs. "
   ]
  },
  {
   "cell_type": "code",
   "execution_count": null,
   "metadata": {},
   "outputs": [],
   "source": [
    "X_reduced = pca.transform(apprentissage)\n",
    "X_reduced_goal = X_reduced[np.array(dfapprentissage['but']),:]\n",
    "X_reduced_not_goal = X_reduced[~ np.array(dfapprentissage['but']),:]\n",
    "plt.figure(figsize=(18,6))\n",
    "plt.scatter(X_reduced_goal[:, 0], X_reduced_goal[:, 1], c='red', alpha=1)\n",
    "plt.scatter(X_reduced_not_goal[:, 0], X_reduced_not_goal[:, 1], c='blue', alpha=0.1)\n",
    "\n",
    "coord1=pca.components_[0]*np.sqrt(pca.explained_variance_[0])\n",
    "coord2=pca.components_[1]*np.sqrt(pca.explained_variance_[1])\n",
    "for i, j, nom in zip(coord1,coord2, dfapprentissage.columns):\n",
    "    plt.text(i*5, j*5, nom, fontsize=15)\n",
    "    plt.arrow(0,0,i*5,j*5,color='black')\n",
    "\n",
    "plt.show()"
   ]
  },
  {
   "cell_type": "markdown",
   "metadata": {},
   "source": [
    "On observe en bleu les tirs ratés et en rouge les buts. Deux tendances se dégagent bien de ce shéma. Les  buts sont plus décalés en général vers la droite. Il y a donc des schémas de buts qui reviennent souvent : Lorsque la distance est faible et l'angle de tir est important. Pour conclure, nous pouvons dire que l'acp confirme nos hypothèses faites lors de la phase exploratoire. "
   ]
  },
  {
   "cell_type": "markdown",
   "metadata": {},
   "source": [
    "# Partie 3 : Regression logistique"
   ]
  },
  {
   "cell_type": "markdown",
   "metadata": {},
   "source": [
    "## A) Régression avec les variables de l'ACP"
   ]
  },
  {
   "cell_type": "code",
   "execution_count": null,
   "metadata": {},
   "outputs": [],
   "source": [
    "from sklearn.model_selection import train_test_split\n",
    "from sklearn import linear_model\n",
    "modele_regression_logistique = linear_model. LogisticRegression ()\n",
    "X_train, X_test, y_train, y_test = train_test_split( dfapprentissage[dfapprentissage.columns[:-1]], dfapprentissage['but'], test_size=0.3)\n",
    "fitter= modele_regression_logistique.fit (X_train,y_train)"
   ]
  },
  {
   "cell_type": "markdown",
   "metadata": {},
   "source": [
    "On importe tout d'abord la méthode train_test_split qui permet de transformer un échantillon de données en deux parties: apprentissage et tests.Ensuite on entraîne la régression logistique sur l'échatillon d'apprentissage. On s'entraîne sur 70% des individus.On tente de prédire sur 30% des données restantes."
   ]
  },
  {
   "cell_type": "code",
   "execution_count": null,
   "metadata": {},
   "outputs": [],
   "source": [
    "1-fitter.score(X_test, y_test)"
   ]
  },
  {
   "cell_type": "markdown",
   "metadata": {},
   "source": [
    "L'erreur est estimée à moins de 10%."
   ]
  },
  {
   "cell_type": "code",
   "execution_count": null,
   "metadata": {},
   "outputs": [],
   "source": [
    "prediction=fitter.predict (X_test)"
   ]
  },
  {
   "cell_type": "code",
   "execution_count": null,
   "metadata": {},
   "outputs": [],
   "source": [
    "score=fitter.score(X_test,y_test)\n",
    "score"
   ]
  },
  {
   "cell_type": "code",
   "execution_count": null,
   "metadata": {},
   "outputs": [],
   "source": [
    "from sklearn.metrics import classification_report\n",
    "print(classification_report(y_test,prediction))"
   ]
  },
  {
   "cell_type": "code",
   "execution_count": null,
   "metadata": {},
   "outputs": [],
   "source": [
    "from IPython.display import Image\n",
    "Image(\"f1score.png\")"
   ]
  },
  {
   "cell_type": "markdown",
   "metadata": {},
   "source": [
    "Le f1 score est calculé par 2.(precision.recall) / (precision + recall)"
   ]
  },
  {
   "cell_type": "code",
   "execution_count": null,
   "metadata": {},
   "outputs": [],
   "source": [
    "from sklearn.metrics import mean_squared_error\n",
    "y_true = y_test\n",
    "y_pred = fitter.predict_proba(X_test)[:,1]\n",
    "mean_squared_error(y_true, y_pred)"
   ]
  },
  {
   "cell_type": "markdown",
   "metadata": {},
   "source": [
    "on calcule l'erreur moyenne entre notre stat calculée par la régression logistique et le résultat qui est donc 0 ou 1. "
   ]
  },
  {
   "cell_type": "code",
   "execution_count": null,
   "metadata": {
    "scrolled": true
   },
   "outputs": [],
   "source": [
    "from sklearn.metrics import confusion_matrix\n",
    "conf = confusion_matrix(y_test, prediction)\n",
    "conf"
   ]
  },
  {
   "cell_type": "code",
   "execution_count": null,
   "metadata": {},
   "outputs": [],
   "source": [
    "cf = pd.DataFrame(conf, columns=['prédit ' + _ for _ in [ \"false\",\"true\"]])\n",
    "cf.index = ['vrai ' + _ for _ in [\"false\",\"true\"]]\n",
    "cf"
   ]
  },
  {
   "cell_type": "code",
   "execution_count": null,
   "metadata": {},
   "outputs": [],
   "source": [
    "from sklearn.metrics import roc_auc_score\n",
    "from sklearn.metrics import roc_curve\n",
    "probas = fitter.predict_proba(X_test)\n",
    "logit_roc_auc = roc_auc_score(y_test, prediction)\n",
    "fpr, tpr, thresholds = roc_curve(y_test, probas[:,1])\n",
    "plt.figure()\n",
    "plt.plot(fpr, tpr, label='Logistic Regression (area = %0.2f)' % logit_roc_auc)\n",
    "plt.plot([0, 1], [0, 1],'r--')\n",
    "plt.xlim([0.0, 1.0])\n",
    "plt.ylim([0.0, 1.05])\n",
    "plt.xlabel('False Positive Rate')\n",
    "plt.ylabel('True Positive Rate')\n",
    "plt.title('Receiver operating characteristic')\n",
    "plt.legend(loc=\"lower right\")\n",
    "plt.savefig('Log_ROC')\n",
    "plt.show()"
   ]
  },
  {
   "cell_type": "markdown",
   "metadata": {},
   "source": [
    "On a ici la courbe ROC, on peut voir que l'on fait déjà bien mieux que le hasard (la droite en rouge) ce qui est une bonne chose."
   ]
  },
  {
   "cell_type": "markdown",
   "metadata": {},
   "source": [
    "## B) Régression avec ajout de variables qualitatives"
   ]
  },
  {
   "cell_type": "code",
   "execution_count": null,
   "metadata": {},
   "outputs": [],
   "source": [
    "dfapprentissage2=pd.get_dummies(df[['cercle5','equipe','adversaires','angle_de_tir','distance','technique','poste','situation','but']])\n"
   ]
  },
  {
   "cell_type": "code",
   "execution_count": null,
   "metadata": {},
   "outputs": [],
   "source": [
    "X_train2, X_test2, y_train2, y_test2 = train_test_split( dfapprentissage2[dfapprentissage2.columns.drop('but')], dfapprentissage2['but'], test_size=0.3)\n",
    "fitter2=linear_model. LogisticRegression ().fit (X_train2,y_train2)"
   ]
  },
  {
   "cell_type": "code",
   "execution_count": null,
   "metadata": {},
   "outputs": [],
   "source": [
    "prediction2=fitter2.predict(X_test2)\n",
    "fitter2.score(X_test2,y_test2)"
   ]
  },
  {
   "cell_type": "markdown",
   "metadata": {},
   "source": [
    "Le score est sensiblement le même que lorsque l'on utilise les variables de l'ACP. "
   ]
  },
  {
   "cell_type": "markdown",
   "metadata": {},
   "source": [
    "## C) Comparaison avec les résultats de Statsbomb"
   ]
  },
  {
   "cell_type": "code",
   "execution_count": null,
   "metadata": {},
   "outputs": [],
   "source": [
    "df[\"but_statbomb\"]=[1 if k>0.5 else 0 for k in df[\"stat\"]]\n",
    "df"
   ]
  },
  {
   "cell_type": "code",
   "execution_count": null,
   "metadata": {},
   "outputs": [],
   "source": [
    "from sklearn.metrics import roc_auc_score\n",
    "from sklearn.metrics import roc_curve\n",
    "probas2 = fitter2.predict_proba(X_test2)\n",
    "logit_roc_auc = roc_auc_score(y_test2, prediction2)\n",
    "fpr, tpr, thresholds = roc_curve(y_test2, probas2[:,1])\n",
    "plt.figure()\n",
    "plt.plot(fpr, tpr, label='Logistic Regression (area = %0.2f)' % logit_roc_auc)\n",
    "plt.plot([0, 1], [0, 1],'r--')\n",
    "plt.xlim([0.0, 1.0])\n",
    "plt.ylim([0.0, 1.05])\n",
    "plt.xlabel('False Positive Rate')\n",
    "plt.ylabel('True Positive Rate')\n",
    "plt.title('Receiver operating characteristic')\n",
    "plt.legend(loc=\"lower right\")\n",
    "plt.savefig('Log_ROC')\n",
    "plt.show()"
   ]
  },
  {
   "cell_type": "markdown",
   "metadata": {},
   "source": [
    "On peut voir que l'on arrive à un niveau de prédiction des buts sensiblement équivalent à celui de Statsbomb. "
   ]
  },
  {
   "cell_type": "markdown",
   "metadata": {},
   "source": [
    "## D) Régression avec suréchantillonnage "
   ]
  },
  {
   "cell_type": "markdown",
   "metadata": {},
   "source": [
    "On peut s'interroger sur la qualité de nos résultats précédents. Les buts étant très rares par rapport au nombre de tirs, même en prédisant 100% de \"non buts\", on obtiendrait un score extrêmement bon. Pour tester la robustesse de notre méthode, nous allons donc artificiellement ajouter des buts dans le dataframe : on appelle cela le suréchantillonnage. Normalement, le score de la prédiction devrait être moins précis, mais ce serait une bonne chose de toujours faire sensiblement mieux que le hasard.  "
   ]
  },
  {
   "cell_type": "code",
   "execution_count": null,
   "metadata": {},
   "outputs": [],
   "source": [
    "\n",
    "\n",
    "####SURECHANTILLONNAGE\n",
    "\n",
    "dfbut=dfapprentissage[dfapprentissage['but']==1]\n",
    "surechantillon=pd.concat([dfapprentissage, dfbut])\n",
    "surechantillon=pd.concat([surechantillon, dfbut])\n",
    "surechantillon=pd.concat([surechantillon, dfbut])   #On multiplie le nombre de buts par 4 \n",
    "\n"
   ]
  },
  {
   "cell_type": "code",
   "execution_count": null,
   "metadata": {},
   "outputs": [],
   "source": [
    "from sklearn.model_selection import train_test_split\n",
    "from sklearn import linear_model\n",
    "\n",
    "X_train3, X_test3, y_train3, y_test3 = train_test_split(surechantillon[surechantillon.columns[:-1]], surechantillon['but'], test_size=0.3)\n",
    "fitter3 = linear_model. LogisticRegression ()\n",
    "\n",
    "fitter3.fit(X_train3,y_train3)\n",
    "score=fitter3.fit(X_train3,y_train3).score(X_test3,y_test3)"
   ]
  },
  {
   "cell_type": "code",
   "execution_count": null,
   "metadata": {},
   "outputs": [],
   "source": [
    "prediction3 = fitter3.predict(X_test3) \n",
    "probas3=fitter3.predict_proba(X_test3)[:,1]\n",
    "from sklearn.metrics import roc_auc_score\n",
    "from sklearn.metrics import roc_curve\n",
    "logit_roc_auc = roc_auc_score(y_test3, prediction3)\n",
    "fpr, tpr, thresholds = roc_curve(y_test3, probas3)\n",
    "plt.figure()\n",
    "plt.plot(fpr, tpr, label='Logistic Regression (area = %0.2f)' % logit_roc_auc)\n",
    "plt.plot([0, 1], [0, 1],'r--')\n",
    "plt.xlim([0.0, 1.0])\n",
    "plt.ylim([0.0, 1.05])\n",
    "plt.xlabel('False Positive Rate')\n",
    "plt.ylabel('True Positive Rate')\n",
    "plt.title('Receiver operating characteristic')\n",
    "plt.legend(loc=\"lower right\")\n",
    "plt.savefig('Log_ROC')\n",
    "plt.show()"
   ]
  },
  {
   "cell_type": "markdown",
   "metadata": {},
   "source": [
    "Ajouter le score. \n"
   ]
  },
  {
   "cell_type": "code",
   "execution_count": null,
   "metadata": {},
   "outputs": [],
   "source": []
  }
 ],
 "metadata": {
  "kernelspec": {
   "display_name": "Python 3",
   "language": "python",
   "name": "python3"
  },
  "language_info": {
   "codemirror_mode": {
    "name": "ipython",
    "version": 3
   },
   "file_extension": ".py",
   "mimetype": "text/x-python",
   "name": "python",
   "nbconvert_exporter": "python",
   "pygments_lexer": "ipython3",
   "version": "3.7.0"
  }
 },
 "nbformat": 4,
 "nbformat_minor": 2
}
